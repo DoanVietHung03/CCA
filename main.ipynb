{
 "cells": [
  {
   "cell_type": "code",
   "execution_count": 95,
   "metadata": {},
   "outputs": [],
   "source": [
    "import numpy as np\n",
    "import pandas as pd\n",
    "from sklearn.datasets import load_breast_cancer\n",
    "from sklearn.linear_model import LogisticRegression\n",
    "from sklearn.metrics import accuracy_score\n",
    "from itertools import combinations\n",
    "import lightning.pytorch as pl\n",
    "from torch.utils.data import Dataset, DataLoader\n",
    "from sklearn.preprocessing import StandardScaler\n",
    "from cca_zoo.linear import TCCA\n",
    "from cca_zoo.nonparametric import KCCA\n",
    "from cca_zoo.deep import (\n",
    "    architectures,\n",
    "    DCCA\n",
    ")"
   ]
  },
  {
   "cell_type": "code",
   "execution_count": 96,
   "metadata": {},
   "outputs": [
    {
     "name": "stdout",
     "output_type": "stream",
     "text": [
      "<class 'pandas.core.frame.DataFrame'>\n",
      "RangeIndex: 569 entries, 0 to 568\n",
      "Data columns (total 30 columns):\n",
      " #   Column                   Non-Null Count  Dtype  \n",
      "---  ------                   --------------  -----  \n",
      " 0   mean radius              569 non-null    float64\n",
      " 1   mean texture             569 non-null    float64\n",
      " 2   mean perimeter           569 non-null    float64\n",
      " 3   mean area                569 non-null    float64\n",
      " 4   mean smoothness          569 non-null    float64\n",
      " 5   mean compactness         569 non-null    float64\n",
      " 6   mean concavity           569 non-null    float64\n",
      " 7   mean concave points      569 non-null    float64\n",
      " 8   mean symmetry            569 non-null    float64\n",
      " 9   mean fractal dimension   569 non-null    float64\n",
      " 10  radius error             569 non-null    float64\n",
      " 11  texture error            569 non-null    float64\n",
      " 12  perimeter error          569 non-null    float64\n",
      " 13  area error               569 non-null    float64\n",
      " 14  smoothness error         569 non-null    float64\n",
      " 15  compactness error        569 non-null    float64\n",
      " 16  concavity error          569 non-null    float64\n",
      " 17  concave points error     569 non-null    float64\n",
      " 18  symmetry error           569 non-null    float64\n",
      " 19  fractal dimension error  569 non-null    float64\n",
      " 20  worst radius             569 non-null    float64\n",
      " 21  worst texture            569 non-null    float64\n",
      " 22  worst perimeter          569 non-null    float64\n",
      " 23  worst area               569 non-null    float64\n",
      " 24  worst smoothness         569 non-null    float64\n",
      " 25  worst compactness        569 non-null    float64\n",
      " 26  worst concavity          569 non-null    float64\n",
      " 27  worst concave points     569 non-null    float64\n",
      " 28  worst symmetry           569 non-null    float64\n",
      " 29  worst fractal dimension  569 non-null    float64\n",
      "dtypes: float64(30)\n",
      "memory usage: 133.5 KB\n"
     ]
    }
   ],
   "source": [
    "data = load_breast_cancer()\n",
    "X = data.data\n",
    "df = pd.DataFrame(X, columns=data.feature_names)\n",
    "\n",
    "df.info()"
   ]
  },
  {
   "cell_type": "code",
   "execution_count": 97,
   "metadata": {},
   "outputs": [
    {
     "name": "stdout",
     "output_type": "stream",
     "text": [
      "<class 'pandas.core.frame.DataFrame'>\n",
      "Index: 398 entries, 6 to 566\n",
      "Data columns (total 30 columns):\n",
      " #   Column                   Non-Null Count  Dtype  \n",
      "---  ------                   --------------  -----  \n",
      " 0   mean radius              398 non-null    float64\n",
      " 1   mean texture             398 non-null    float64\n",
      " 2   mean perimeter           398 non-null    float64\n",
      " 3   mean area                398 non-null    float64\n",
      " 4   mean smoothness          398 non-null    float64\n",
      " 5   mean compactness         398 non-null    float64\n",
      " 6   mean concavity           398 non-null    float64\n",
      " 7   mean concave points      398 non-null    float64\n",
      " 8   mean symmetry            398 non-null    float64\n",
      " 9   mean fractal dimension   398 non-null    float64\n",
      " 10  radius error             398 non-null    float64\n",
      " 11  texture error            398 non-null    float64\n",
      " 12  perimeter error          398 non-null    float64\n",
      " 13  area error               398 non-null    float64\n",
      " 14  smoothness error         398 non-null    float64\n",
      " 15  compactness error        398 non-null    float64\n",
      " 16  concavity error          398 non-null    float64\n",
      " 17  concave points error     398 non-null    float64\n",
      " 18  symmetry error           398 non-null    float64\n",
      " 19  fractal dimension error  398 non-null    float64\n",
      " 20  worst radius             398 non-null    float64\n",
      " 21  worst texture            398 non-null    float64\n",
      " 22  worst perimeter          398 non-null    float64\n",
      " 23  worst area               398 non-null    float64\n",
      " 24  worst smoothness         398 non-null    float64\n",
      " 25  worst compactness        398 non-null    float64\n",
      " 26  worst concavity          398 non-null    float64\n",
      " 27  worst concave points     398 non-null    float64\n",
      " 28  worst symmetry           398 non-null    float64\n",
      " 29  worst fractal dimension  398 non-null    float64\n",
      "dtypes: float64(30)\n",
      "memory usage: 96.4 KB\n",
      "(398,)\n"
     ]
    }
   ],
   "source": [
    "Q1 = df.quantile(0.25)\n",
    "Q3 = df.quantile(0.75)\n",
    "IQR = Q3 - Q1\n",
    "\n",
    "threshold = 1.5\n",
    "\n",
    "df_processed = df[~((df < (Q1 - threshold * IQR)) | (df > (Q3 + threshold * IQR))).any(axis=1)]\n",
    "ys = data.target[df_processed.index]\n",
    "\n",
    "df_processed.info()\n",
    "print(np.shape(ys))"
   ]
  },
  {
   "cell_type": "code",
   "execution_count": 98,
   "metadata": {},
   "outputs": [],
   "source": [
    "X_train = df_processed[:300]\n",
    "y_train = ys[:300]\n",
    "X_test = df_processed[300:]\n",
    "y_test = ys[300:]"
   ]
  },
  {
   "cell_type": "code",
   "execution_count": 99,
   "metadata": {},
   "outputs": [],
   "source": [
    "scaler = StandardScaler()\n",
    "\n",
    "X_train = pd.DataFrame(scaler.fit_transform(X_train), columns=X_train.columns)\n",
    "X_test = pd.DataFrame(scaler.fit_transform(X_test), columns=X_test.columns)"
   ]
  },
  {
   "cell_type": "code",
   "execution_count": 100,
   "metadata": {},
   "outputs": [
    {
     "name": "stdout",
     "output_type": "stream",
     "text": [
      "Accuracy: 0.9795918367346939\n"
     ]
    }
   ],
   "source": [
    "log_reg = LogisticRegression()\n",
    "log_reg.fit(X_train, y_train)\n",
    "y_pred = log_reg.predict(X_test)\n",
    "\n",
    "accuracy = accuracy_score(y_test, y_pred)\n",
    "print(\"Accuracy:\", accuracy)"
   ]
  },
  {
   "cell_type": "code",
   "execution_count": 101,
   "metadata": {},
   "outputs": [],
   "source": [
    "data_train_dict = {\n",
    "    'radius': X_train[['mean radius', 'radius error', 'worst radius']].values,\n",
    "    'texture': X_train[['mean texture', 'texture error', 'worst texture']].values,\n",
    "    'perimeter': X_train[['mean perimeter', 'perimeter error', 'worst perimeter']].values,\n",
    "    'area': X_train[['mean area', 'area error', 'worst area']].values,\n",
    "    'smoothness': X_train[['mean smoothness', 'smoothness error', 'worst smoothness']].values,\n",
    "    'compactness': X_train[['mean compactness', 'compactness error', 'worst compactness']].values,\n",
    "    'concavity': X_train[['mean concavity', 'concavity error', 'worst concavity']].values,\n",
    "    'concave_points': X_train[['mean concave points', 'concave points error', 'worst concave points']].values,\n",
    "    'symmetry': X_train[['mean symmetry', 'symmetry error', 'worst symmetry']].values,\n",
    "    'fractal_dimension': X_train[['mean fractal dimension', 'fractal dimension error', 'worst fractal dimension']].values\n",
    "}\n",
    "\n",
    "data_test_dict = {\n",
    "    'radius': X_test[['mean radius', 'radius error', 'worst radius']].values,\n",
    "    'texture': X_test[['mean texture', 'texture error', 'worst texture']].values,\n",
    "    'perimeter': X_test[['mean perimeter', 'perimeter error', 'worst perimeter']].values,\n",
    "    'area': X_test[['mean area', 'area error', 'worst area']].values,\n",
    "    'smoothness': X_test[['mean smoothness', 'smoothness error', 'worst smoothness']].values,\n",
    "    'compactness': X_test[['mean compactness', 'compactness error', 'worst compactness']].values,\n",
    "    'concavity': X_test[['mean concavity', 'concavity error', 'worst concavity']].values,\n",
    "    'concave_points': X_test[['mean concave points', 'concave points error', 'worst concave points']].values,\n",
    "    'symmetry': X_test[['mean symmetry', 'symmetry error', 'worst symmetry']].values,\n",
    "    'fractal_dimension': X_test[['mean fractal dimension', 'fractal dimension error', 'worst fractal dimension']].values\n",
    "}"
   ]
  },
  {
   "cell_type": "markdown",
   "metadata": {},
   "source": [
    "### Kernel CCA"
   ]
  },
  {
   "cell_type": "code",
   "execution_count": 102,
   "metadata": {},
   "outputs": [
    {
     "name": "stdout",
     "output_type": "stream",
     "text": [
      "Accuracy: 0.8163265306122449\n"
     ]
    }
   ],
   "source": [
    "data_train_tuple = tuple(data_train_dict.values())\n",
    "data_test_tuple = tuple(data_test_dict.values())\n",
    "\n",
    "KCCA_model = KCCA()\n",
    "X_kcca_train = KCCA_model.fit_transform(data_train_tuple)\n",
    "X_kcca_test = KCCA_model.transform(data_test_tuple)\n",
    "\n",
    "X_kcca_train_log = np.squeeze(np.transpose(X_kcca_train, axes=(1, 0, 2)), axis=-1)\n",
    "X_kcca_test_log = np.squeeze(np.transpose(X_kcca_test, axes=(1, 0, 2)), axis=-1)\n",
    "\n",
    "log_reg = LogisticRegression()\n",
    "log_reg.fit(X_kcca_train_log, y_train)\n",
    "y_kcca_pred = log_reg.predict(X_kcca_test_log)\n",
    "\n",
    "accuracy = accuracy_score(y_test, y_kcca_pred)\n",
    "print(\"Accuracy:\", accuracy)"
   ]
  },
  {
   "cell_type": "code",
   "execution_count": 103,
   "metadata": {},
   "outputs": [
    {
     "name": "stderr",
     "output_type": "stream",
     "text": [
      "<>:39: SyntaxWarning: invalid escape sequence '\\-'\n",
      "<>:39: SyntaxWarning: invalid escape sequence '\\-'\n",
      "C:\\Users\\nguyn\\AppData\\Local\\Temp\\ipykernel_19436\\2540473077.py:39: SyntaxWarning: invalid escape sequence '\\-'\n",
      "  print(\"----\\----\")\n"
     ]
    },
    {
     "name": "stdout",
     "output_type": "stream",
     "text": [
      "radius_texture - 0.8061224489795918\n",
      "radius_perimeter - 0.9081632653061225\n",
      "radius_area - 0.9183673469387755\n",
      "radius_smoothness - 0.8061224489795918\n",
      "radius_compactness - 0.7857142857142857\n",
      "radius_concavity - 0.8775510204081632\n",
      "radius_concave_points - 0.8367346938775511\n",
      "radius_symmetry - 0.7755102040816326\n",
      "radius_fractal_dimension - 0.7755102040816326\n",
      "texture_perimeter - 0.8163265306122449\n",
      "texture_area - 0.8469387755102041\n",
      "texture_smoothness - 0.826530612244898\n",
      "texture_compactness - 0.7959183673469388\n",
      "texture_concavity - 0.826530612244898\n",
      "texture_concave_points - 0.7959183673469388\n",
      "texture_symmetry - 0.7857142857142857\n",
      "texture_fractal_dimension - 0.7959183673469388\n",
      "perimeter_area - 0.9183673469387755\n",
      "perimeter_smoothness - 0.8061224489795918\n",
      "perimeter_compactness - 0.8061224489795918\n",
      "perimeter_concavity - 0.8673469387755102\n",
      "perimeter_concave_points - 0.8469387755102041\n",
      "perimeter_symmetry - 0.7959183673469388\n",
      "perimeter_fractal_dimension - 0.8163265306122449\n",
      "area_smoothness - 0.826530612244898\n",
      "area_compactness - 0.7959183673469388\n",
      "area_concavity - 0.8673469387755102\n",
      "area_concave_points - 0.8571428571428571\n",
      "area_symmetry - 0.7857142857142857\n",
      "area_fractal_dimension - 0.8061224489795918\n",
      "smoothness_compactness - 0.826530612244898\n",
      "smoothness_concavity - 0.7959183673469388\n",
      "smoothness_concave_points - 0.8061224489795918\n",
      "smoothness_symmetry - 0.7653061224489796\n",
      "smoothness_fractal_dimension - 0.8163265306122449\n",
      "compactness_concavity - 0.826530612244898\n",
      "compactness_concave_points - 0.8367346938775511\n",
      "compactness_symmetry - 0.7959183673469388\n",
      "compactness_fractal_dimension - 0.7959183673469388\n",
      "concavity_concave_points - 0.9285714285714286\n",
      "concavity_symmetry - 0.8061224489795918\n",
      "concavity_fractal_dimension - 0.826530612244898\n",
      "concave_points_symmetry - 0.8061224489795918\n",
      "concave_points_fractal_dimension - 0.8061224489795918\n",
      "symmetry_fractal_dimension - 0.7857142857142857\n",
      "----\\----\n",
      "Tập có accuracy cao nhất: concavity_concave_points\n",
      "Accuracy: 0.9285714285714286\n"
     ]
    }
   ],
   "source": [
    "all_attributes = list(data_train_dict.keys())\n",
    "all_subsets = combinations(all_attributes, 2)\n",
    "\n",
    "data_train_subsets = {}\n",
    "data_test_subsets = {}\n",
    "\n",
    "for subset in all_subsets:\n",
    "    subset_name = \"_\".join(subset)\n",
    "    subset_train_values = [data_train_dict[attr] for attr in subset]\n",
    "    subset_test_values = [data_test_dict[attr] for attr in subset]\n",
    "    data_train_subsets[subset_name] = subset_train_values\n",
    "    data_test_subsets[subset_name] = subset_test_values\n",
    "\n",
    "best_accuracy = 0\n",
    "best_subset = None\n",
    "\n",
    "for subset_name, subset_values in data_train_subsets.items():\n",
    "    data_train_tuple = tuple(subset_values)\n",
    "    data_test_tuple = tuple(data_test_subsets[subset_name])\n",
    "\n",
    "    KCCA_model = KCCA()\n",
    "    X_train_transformed = KCCA_model.fit_transform(data_train_tuple)\n",
    "    X_test_transformed = KCCA_model.transform(data_test_tuple)\n",
    "\n",
    "    X_train_log = np.squeeze(np.transpose(X_train_transformed, axes=(1, 0, 2)), axis=-1)\n",
    "    X_test_log = np.squeeze(np.transpose(X_test_transformed, axes=(1, 0, 2)), axis=-1)\n",
    "\n",
    "    log_reg = LogisticRegression()\n",
    "    log_reg.fit(X_train_log, y_train)\n",
    "\n",
    "    y_pred = log_reg.predict(X_test_log)\n",
    "    accuracy = accuracy_score(y_test, y_pred)\n",
    "    print(f\"{subset_name} - {accuracy}\")\n",
    "\n",
    "    if accuracy > best_accuracy:\n",
    "        best_accuracy = accuracy\n",
    "        best_subset = subset_name\n",
    "\n",
    "print(\"----\\----\")\n",
    "print(\"Tập có accuracy cao nhất:\", best_subset)\n",
    "print(\"Accuracy:\", best_accuracy)"
   ]
  },
  {
   "cell_type": "markdown",
   "metadata": {},
   "source": [
    "### Deep CCA"
   ]
  },
  {
   "cell_type": "code",
   "execution_count": 104,
   "metadata": {},
   "outputs": [
    {
     "name": "stderr",
     "output_type": "stream",
     "text": [
      "<>:105: SyntaxWarning: invalid escape sequence '\\-'\n",
      "<>:105: SyntaxWarning: invalid escape sequence '\\-'\n",
      "C:\\Users\\nguyn\\AppData\\Local\\Temp\\ipykernel_19436\\2937504000.py:105: SyntaxWarning: invalid escape sequence '\\-'\n",
      "  print(\"----\\----\")\n",
      "GPU available: False, used: False\n",
      "TPU available: False, using: 0 TPU cores\n",
      "IPU available: False, using: 0 IPUs\n",
      "HPU available: False, using: 0 HPUs\n"
     ]
    },
    {
     "name": "stdout",
     "output_type": "stream",
     "text": [
      "radius_texture\n"
     ]
    },
    {
     "name": "stderr",
     "output_type": "stream",
     "text": [
      "c:\\Users\\nguyn\\AppData\\Local\\Programs\\Python\\Python312\\Lib\\site-packages\\lightning\\pytorch\\trainer\\configuration_validator.py:74: You defined a `validation_step` but have no `val_dataloader`. Skipping val loop.\n",
      "c:\\Users\\nguyn\\AppData\\Local\\Programs\\Python\\Python312\\Lib\\site-packages\\lightning\\pytorch\\trainer\\connectors\\data_connector.py:441: The 'train_dataloader' does not have many workers which may be a bottleneck. Consider increasing the value of the `num_workers` argument` to `num_workers=7` in the `DataLoader` to improve performance.\n",
      "c:\\Users\\nguyn\\AppData\\Local\\Programs\\Python\\Python312\\Lib\\site-packages\\lightning\\pytorch\\loops\\fit_loop.py:298: The number of training batches (1) is smaller than the logging interval Trainer(log_every_n_steps=50). Set a lower value for log_every_n_steps if you want to see logs for the training epoch.\n",
      "`Trainer.fit` stopped: `max_epochs=30` reached.\n",
      "GPU available: False, used: False\n",
      "TPU available: False, using: 0 TPU cores\n",
      "IPU available: False, using: 0 IPUs\n",
      "HPU available: False, using: 0 HPUs\n",
      "c:\\Users\\nguyn\\AppData\\Local\\Programs\\Python\\Python312\\Lib\\site-packages\\lightning\\pytorch\\trainer\\configuration_validator.py:74: You defined a `validation_step` but have no `val_dataloader`. Skipping val loop.\n",
      "c:\\Users\\nguyn\\AppData\\Local\\Programs\\Python\\Python312\\Lib\\site-packages\\lightning\\pytorch\\trainer\\connectors\\data_connector.py:441: The 'train_dataloader' does not have many workers which may be a bottleneck. Consider increasing the value of the `num_workers` argument` to `num_workers=7` in the `DataLoader` to improve performance.\n",
      "c:\\Users\\nguyn\\AppData\\Local\\Programs\\Python\\Python312\\Lib\\site-packages\\lightning\\pytorch\\loops\\fit_loop.py:298: The number of training batches (1) is smaller than the logging interval Trainer(log_every_n_steps=50). Set a lower value for log_every_n_steps if you want to see logs for the training epoch.\n"
     ]
    },
    {
     "name": "stdout",
     "output_type": "stream",
     "text": [
      "radius_perimeter\n"
     ]
    },
    {
     "name": "stderr",
     "output_type": "stream",
     "text": [
      "`Trainer.fit` stopped: `max_epochs=30` reached.\n",
      "GPU available: False, used: False\n",
      "TPU available: False, using: 0 TPU cores\n",
      "IPU available: False, using: 0 IPUs\n",
      "HPU available: False, using: 0 HPUs\n",
      "c:\\Users\\nguyn\\AppData\\Local\\Programs\\Python\\Python312\\Lib\\site-packages\\lightning\\pytorch\\trainer\\configuration_validator.py:74: You defined a `validation_step` but have no `val_dataloader`. Skipping val loop.\n",
      "c:\\Users\\nguyn\\AppData\\Local\\Programs\\Python\\Python312\\Lib\\site-packages\\lightning\\pytorch\\trainer\\connectors\\data_connector.py:441: The 'train_dataloader' does not have many workers which may be a bottleneck. Consider increasing the value of the `num_workers` argument` to `num_workers=7` in the `DataLoader` to improve performance.\n",
      "c:\\Users\\nguyn\\AppData\\Local\\Programs\\Python\\Python312\\Lib\\site-packages\\lightning\\pytorch\\loops\\fit_loop.py:298: The number of training batches (1) is smaller than the logging interval Trainer(log_every_n_steps=50). Set a lower value for log_every_n_steps if you want to see logs for the training epoch.\n"
     ]
    },
    {
     "name": "stdout",
     "output_type": "stream",
     "text": [
      "radius_area\n"
     ]
    },
    {
     "name": "stderr",
     "output_type": "stream",
     "text": [
      "`Trainer.fit` stopped: `max_epochs=30` reached.\n",
      "GPU available: False, used: False\n",
      "TPU available: False, using: 0 TPU cores\n",
      "IPU available: False, using: 0 IPUs\n",
      "HPU available: False, using: 0 HPUs\n",
      "c:\\Users\\nguyn\\AppData\\Local\\Programs\\Python\\Python312\\Lib\\site-packages\\lightning\\pytorch\\trainer\\configuration_validator.py:74: You defined a `validation_step` but have no `val_dataloader`. Skipping val loop.\n"
     ]
    },
    {
     "name": "stdout",
     "output_type": "stream",
     "text": [
      "radius_smoothness\n"
     ]
    },
    {
     "name": "stderr",
     "output_type": "stream",
     "text": [
      "c:\\Users\\nguyn\\AppData\\Local\\Programs\\Python\\Python312\\Lib\\site-packages\\lightning\\pytorch\\trainer\\connectors\\data_connector.py:441: The 'train_dataloader' does not have many workers which may be a bottleneck. Consider increasing the value of the `num_workers` argument` to `num_workers=7` in the `DataLoader` to improve performance.\n",
      "c:\\Users\\nguyn\\AppData\\Local\\Programs\\Python\\Python312\\Lib\\site-packages\\lightning\\pytorch\\loops\\fit_loop.py:298: The number of training batches (1) is smaller than the logging interval Trainer(log_every_n_steps=50). Set a lower value for log_every_n_steps if you want to see logs for the training epoch.\n",
      "`Trainer.fit` stopped: `max_epochs=30` reached.\n",
      "GPU available: False, used: False\n",
      "TPU available: False, using: 0 TPU cores\n"
     ]
    },
    {
     "name": "stdout",
     "output_type": "stream",
     "text": [
      "radius_compactness\n"
     ]
    },
    {
     "name": "stderr",
     "output_type": "stream",
     "text": [
      "IPU available: False, using: 0 IPUs\n",
      "HPU available: False, using: 0 HPUs\n",
      "c:\\Users\\nguyn\\AppData\\Local\\Programs\\Python\\Python312\\Lib\\site-packages\\lightning\\pytorch\\trainer\\configuration_validator.py:74: You defined a `validation_step` but have no `val_dataloader`. Skipping val loop.\n",
      "c:\\Users\\nguyn\\AppData\\Local\\Programs\\Python\\Python312\\Lib\\site-packages\\lightning\\pytorch\\trainer\\connectors\\data_connector.py:441: The 'train_dataloader' does not have many workers which may be a bottleneck. Consider increasing the value of the `num_workers` argument` to `num_workers=7` in the `DataLoader` to improve performance.\n",
      "c:\\Users\\nguyn\\AppData\\Local\\Programs\\Python\\Python312\\Lib\\site-packages\\lightning\\pytorch\\loops\\fit_loop.py:298: The number of training batches (1) is smaller than the logging interval Trainer(log_every_n_steps=50). Set a lower value for log_every_n_steps if you want to see logs for the training epoch.\n",
      "`Trainer.fit` stopped: `max_epochs=30` reached.\n",
      "GPU available: False, used: False\n",
      "TPU available: False, using: 0 TPU cores\n",
      "IPU available: False, using: 0 IPUs\n",
      "HPU available: False, using: 0 HPUs\n",
      "c:\\Users\\nguyn\\AppData\\Local\\Programs\\Python\\Python312\\Lib\\site-packages\\lightning\\pytorch\\trainer\\configuration_validator.py:74: You defined a `validation_step` but have no `val_dataloader`. Skipping val loop.\n",
      "c:\\Users\\nguyn\\AppData\\Local\\Programs\\Python\\Python312\\Lib\\site-packages\\lightning\\pytorch\\trainer\\connectors\\data_connector.py:441: The 'train_dataloader' does not have many workers which may be a bottleneck. Consider increasing the value of the `num_workers` argument` to `num_workers=7` in the `DataLoader` to improve performance.\n",
      "c:\\Users\\nguyn\\AppData\\Local\\Programs\\Python\\Python312\\Lib\\site-packages\\lightning\\pytorch\\loops\\fit_loop.py:298: The number of training batches (1) is smaller than the logging interval Trainer(log_every_n_steps=50). Set a lower value for log_every_n_steps if you want to see logs for the training epoch.\n"
     ]
    },
    {
     "name": "stdout",
     "output_type": "stream",
     "text": [
      "radius_concavity\n"
     ]
    },
    {
     "name": "stderr",
     "output_type": "stream",
     "text": [
      "`Trainer.fit` stopped: `max_epochs=30` reached.\n",
      "GPU available: False, used: False\n",
      "TPU available: False, using: 0 TPU cores\n",
      "IPU available: False, using: 0 IPUs\n",
      "HPU available: False, using: 0 HPUs\n",
      "c:\\Users\\nguyn\\AppData\\Local\\Programs\\Python\\Python312\\Lib\\site-packages\\lightning\\pytorch\\trainer\\configuration_validator.py:74: You defined a `validation_step` but have no `val_dataloader`. Skipping val loop.\n"
     ]
    },
    {
     "name": "stdout",
     "output_type": "stream",
     "text": [
      "radius_concave_points\n"
     ]
    },
    {
     "name": "stderr",
     "output_type": "stream",
     "text": [
      "c:\\Users\\nguyn\\AppData\\Local\\Programs\\Python\\Python312\\Lib\\site-packages\\lightning\\pytorch\\trainer\\connectors\\data_connector.py:441: The 'train_dataloader' does not have many workers which may be a bottleneck. Consider increasing the value of the `num_workers` argument` to `num_workers=7` in the `DataLoader` to improve performance.\n",
      "c:\\Users\\nguyn\\AppData\\Local\\Programs\\Python\\Python312\\Lib\\site-packages\\lightning\\pytorch\\loops\\fit_loop.py:298: The number of training batches (1) is smaller than the logging interval Trainer(log_every_n_steps=50). Set a lower value for log_every_n_steps if you want to see logs for the training epoch.\n",
      "`Trainer.fit` stopped: `max_epochs=30` reached.\n",
      "GPU available: False, used: False\n",
      "TPU available: False, using: 0 TPU cores\n",
      "IPU available: False, using: 0 IPUs\n",
      "HPU available: False, using: 0 HPUs\n",
      "c:\\Users\\nguyn\\AppData\\Local\\Programs\\Python\\Python312\\Lib\\site-packages\\lightning\\pytorch\\trainer\\configuration_validator.py:74: You defined a `validation_step` but have no `val_dataloader`. Skipping val loop.\n",
      "c:\\Users\\nguyn\\AppData\\Local\\Programs\\Python\\Python312\\Lib\\site-packages\\lightning\\pytorch\\trainer\\connectors\\data_connector.py:441: The 'train_dataloader' does not have many workers which may be a bottleneck. Consider increasing the value of the `num_workers` argument` to `num_workers=7` in the `DataLoader` to improve performance.\n",
      "c:\\Users\\nguyn\\AppData\\Local\\Programs\\Python\\Python312\\Lib\\site-packages\\lightning\\pytorch\\loops\\fit_loop.py:298: The number of training batches (1) is smaller than the logging interval Trainer(log_every_n_steps=50). Set a lower value for log_every_n_steps if you want to see logs for the training epoch.\n"
     ]
    },
    {
     "name": "stdout",
     "output_type": "stream",
     "text": [
      "radius_symmetry\n"
     ]
    },
    {
     "name": "stderr",
     "output_type": "stream",
     "text": [
      "`Trainer.fit` stopped: `max_epochs=30` reached.\n",
      "GPU available: False, used: False\n",
      "TPU available: False, using: 0 TPU cores\n",
      "IPU available: False, using: 0 IPUs\n",
      "HPU available: False, using: 0 HPUs\n",
      "c:\\Users\\nguyn\\AppData\\Local\\Programs\\Python\\Python312\\Lib\\site-packages\\lightning\\pytorch\\trainer\\configuration_validator.py:74: You defined a `validation_step` but have no `val_dataloader`. Skipping val loop.\n",
      "c:\\Users\\nguyn\\AppData\\Local\\Programs\\Python\\Python312\\Lib\\site-packages\\lightning\\pytorch\\trainer\\connectors\\data_connector.py:441: The 'train_dataloader' does not have many workers which may be a bottleneck. Consider increasing the value of the `num_workers` argument` to `num_workers=7` in the `DataLoader` to improve performance.\n",
      "c:\\Users\\nguyn\\AppData\\Local\\Programs\\Python\\Python312\\Lib\\site-packages\\lightning\\pytorch\\loops\\fit_loop.py:298: The number of training batches (1) is smaller than the logging interval Trainer(log_every_n_steps=50). Set a lower value for log_every_n_steps if you want to see logs for the training epoch.\n"
     ]
    },
    {
     "name": "stdout",
     "output_type": "stream",
     "text": [
      "radius_fractal_dimension\n"
     ]
    },
    {
     "name": "stderr",
     "output_type": "stream",
     "text": [
      "`Trainer.fit` stopped: `max_epochs=30` reached.\n",
      "GPU available: False, used: False\n",
      "TPU available: False, using: 0 TPU cores\n",
      "IPU available: False, using: 0 IPUs\n",
      "HPU available: False, using: 0 HPUs\n",
      "c:\\Users\\nguyn\\AppData\\Local\\Programs\\Python\\Python312\\Lib\\site-packages\\lightning\\pytorch\\trainer\\configuration_validator.py:74: You defined a `validation_step` but have no `val_dataloader`. Skipping val loop.\n",
      "c:\\Users\\nguyn\\AppData\\Local\\Programs\\Python\\Python312\\Lib\\site-packages\\lightning\\pytorch\\trainer\\connectors\\data_connector.py:441: The 'train_dataloader' does not have many workers which may be a bottleneck. Consider increasing the value of the `num_workers` argument` to `num_workers=7` in the `DataLoader` to improve performance.\n",
      "c:\\Users\\nguyn\\AppData\\Local\\Programs\\Python\\Python312\\Lib\\site-packages\\lightning\\pytorch\\loops\\fit_loop.py:298: The number of training batches (1) is smaller than the logging interval Trainer(log_every_n_steps=50). Set a lower value for log_every_n_steps if you want to see logs for the training epoch.\n"
     ]
    },
    {
     "name": "stdout",
     "output_type": "stream",
     "text": [
      "texture_perimeter\n"
     ]
    },
    {
     "name": "stderr",
     "output_type": "stream",
     "text": [
      "`Trainer.fit` stopped: `max_epochs=30` reached.\n",
      "GPU available: False, used: False\n",
      "TPU available: False, using: 0 TPU cores\n",
      "IPU available: False, using: 0 IPUs\n",
      "HPU available: False, using: 0 HPUs\n",
      "c:\\Users\\nguyn\\AppData\\Local\\Programs\\Python\\Python312\\Lib\\site-packages\\lightning\\pytorch\\trainer\\configuration_validator.py:74: You defined a `validation_step` but have no `val_dataloader`. Skipping val loop.\n"
     ]
    },
    {
     "name": "stdout",
     "output_type": "stream",
     "text": [
      "texture_area\n"
     ]
    },
    {
     "name": "stderr",
     "output_type": "stream",
     "text": [
      "c:\\Users\\nguyn\\AppData\\Local\\Programs\\Python\\Python312\\Lib\\site-packages\\lightning\\pytorch\\trainer\\connectors\\data_connector.py:441: The 'train_dataloader' does not have many workers which may be a bottleneck. Consider increasing the value of the `num_workers` argument` to `num_workers=7` in the `DataLoader` to improve performance.\n",
      "c:\\Users\\nguyn\\AppData\\Local\\Programs\\Python\\Python312\\Lib\\site-packages\\lightning\\pytorch\\loops\\fit_loop.py:298: The number of training batches (1) is smaller than the logging interval Trainer(log_every_n_steps=50). Set a lower value for log_every_n_steps if you want to see logs for the training epoch.\n",
      "`Trainer.fit` stopped: `max_epochs=30` reached.\n",
      "GPU available: False, used: False\n",
      "TPU available: False, using: 0 TPU cores\n",
      "IPU available: False, using: 0 IPUs\n",
      "HPU available: False, using: 0 HPUs\n",
      "c:\\Users\\nguyn\\AppData\\Local\\Programs\\Python\\Python312\\Lib\\site-packages\\lightning\\pytorch\\trainer\\configuration_validator.py:74: You defined a `validation_step` but have no `val_dataloader`. Skipping val loop.\n",
      "c:\\Users\\nguyn\\AppData\\Local\\Programs\\Python\\Python312\\Lib\\site-packages\\lightning\\pytorch\\trainer\\connectors\\data_connector.py:441: The 'train_dataloader' does not have many workers which may be a bottleneck. Consider increasing the value of the `num_workers` argument` to `num_workers=7` in the `DataLoader` to improve performance.\n",
      "c:\\Users\\nguyn\\AppData\\Local\\Programs\\Python\\Python312\\Lib\\site-packages\\lightning\\pytorch\\loops\\fit_loop.py:298: The number of training batches (1) is smaller than the logging interval Trainer(log_every_n_steps=50). Set a lower value for log_every_n_steps if you want to see logs for the training epoch.\n"
     ]
    },
    {
     "name": "stdout",
     "output_type": "stream",
     "text": [
      "texture_smoothness\n"
     ]
    },
    {
     "name": "stderr",
     "output_type": "stream",
     "text": [
      "`Trainer.fit` stopped: `max_epochs=30` reached.\n",
      "GPU available: False, used: False\n",
      "TPU available: False, using: 0 TPU cores\n",
      "IPU available: False, using: 0 IPUs\n",
      "HPU available: False, using: 0 HPUs\n",
      "c:\\Users\\nguyn\\AppData\\Local\\Programs\\Python\\Python312\\Lib\\site-packages\\lightning\\pytorch\\trainer\\configuration_validator.py:74: You defined a `validation_step` but have no `val_dataloader`. Skipping val loop.\n",
      "c:\\Users\\nguyn\\AppData\\Local\\Programs\\Python\\Python312\\Lib\\site-packages\\lightning\\pytorch\\trainer\\connectors\\data_connector.py:441: The 'train_dataloader' does not have many workers which may be a bottleneck. Consider increasing the value of the `num_workers` argument` to `num_workers=7` in the `DataLoader` to improve performance.\n"
     ]
    },
    {
     "name": "stdout",
     "output_type": "stream",
     "text": [
      "texture_compactness\n"
     ]
    },
    {
     "name": "stderr",
     "output_type": "stream",
     "text": [
      "c:\\Users\\nguyn\\AppData\\Local\\Programs\\Python\\Python312\\Lib\\site-packages\\lightning\\pytorch\\loops\\fit_loop.py:298: The number of training batches (1) is smaller than the logging interval Trainer(log_every_n_steps=50). Set a lower value for log_every_n_steps if you want to see logs for the training epoch.\n",
      "`Trainer.fit` stopped: `max_epochs=30` reached.\n",
      "GPU available: False, used: False\n",
      "TPU available: False, using: 0 TPU cores\n",
      "IPU available: False, using: 0 IPUs\n",
      "HPU available: False, using: 0 HPUs\n",
      "c:\\Users\\nguyn\\AppData\\Local\\Programs\\Python\\Python312\\Lib\\site-packages\\lightning\\pytorch\\trainer\\configuration_validator.py:74: You defined a `validation_step` but have no `val_dataloader`. Skipping val loop.\n",
      "c:\\Users\\nguyn\\AppData\\Local\\Programs\\Python\\Python312\\Lib\\site-packages\\lightning\\pytorch\\trainer\\connectors\\data_connector.py:441: The 'train_dataloader' does not have many workers which may be a bottleneck. Consider increasing the value of the `num_workers` argument` to `num_workers=7` in the `DataLoader` to improve performance.\n",
      "c:\\Users\\nguyn\\AppData\\Local\\Programs\\Python\\Python312\\Lib\\site-packages\\lightning\\pytorch\\loops\\fit_loop.py:298: The number of training batches (1) is smaller than the logging interval Trainer(log_every_n_steps=50). Set a lower value for log_every_n_steps if you want to see logs for the training epoch.\n"
     ]
    },
    {
     "name": "stdout",
     "output_type": "stream",
     "text": [
      "texture_concavity\n"
     ]
    },
    {
     "name": "stderr",
     "output_type": "stream",
     "text": [
      "`Trainer.fit` stopped: `max_epochs=30` reached.\n",
      "GPU available: False, used: False\n",
      "TPU available: False, using: 0 TPU cores\n",
      "IPU available: False, using: 0 IPUs\n",
      "HPU available: False, using: 0 HPUs\n",
      "c:\\Users\\nguyn\\AppData\\Local\\Programs\\Python\\Python312\\Lib\\site-packages\\lightning\\pytorch\\trainer\\configuration_validator.py:74: You defined a `validation_step` but have no `val_dataloader`. Skipping val loop.\n"
     ]
    },
    {
     "name": "stdout",
     "output_type": "stream",
     "text": [
      "texture_concave_points\n"
     ]
    },
    {
     "name": "stderr",
     "output_type": "stream",
     "text": [
      "c:\\Users\\nguyn\\AppData\\Local\\Programs\\Python\\Python312\\Lib\\site-packages\\lightning\\pytorch\\trainer\\connectors\\data_connector.py:441: The 'train_dataloader' does not have many workers which may be a bottleneck. Consider increasing the value of the `num_workers` argument` to `num_workers=7` in the `DataLoader` to improve performance.\n",
      "c:\\Users\\nguyn\\AppData\\Local\\Programs\\Python\\Python312\\Lib\\site-packages\\lightning\\pytorch\\loops\\fit_loop.py:298: The number of training batches (1) is smaller than the logging interval Trainer(log_every_n_steps=50). Set a lower value for log_every_n_steps if you want to see logs for the training epoch.\n",
      "`Trainer.fit` stopped: `max_epochs=30` reached.\n",
      "GPU available: False, used: False\n",
      "TPU available: False, using: 0 TPU cores\n",
      "IPU available: False, using: 0 IPUs\n",
      "HPU available: False, using: 0 HPUs\n",
      "c:\\Users\\nguyn\\AppData\\Local\\Programs\\Python\\Python312\\Lib\\site-packages\\lightning\\pytorch\\trainer\\configuration_validator.py:74: You defined a `validation_step` but have no `val_dataloader`. Skipping val loop.\n",
      "c:\\Users\\nguyn\\AppData\\Local\\Programs\\Python\\Python312\\Lib\\site-packages\\lightning\\pytorch\\trainer\\connectors\\data_connector.py:441: The 'train_dataloader' does not have many workers which may be a bottleneck. Consider increasing the value of the `num_workers` argument` to `num_workers=7` in the `DataLoader` to improve performance.\n",
      "c:\\Users\\nguyn\\AppData\\Local\\Programs\\Python\\Python312\\Lib\\site-packages\\lightning\\pytorch\\loops\\fit_loop.py:298: The number of training batches (1) is smaller than the logging interval Trainer(log_every_n_steps=50). Set a lower value for log_every_n_steps if you want to see logs for the training epoch.\n"
     ]
    },
    {
     "name": "stdout",
     "output_type": "stream",
     "text": [
      "texture_symmetry\n"
     ]
    },
    {
     "name": "stderr",
     "output_type": "stream",
     "text": [
      "`Trainer.fit` stopped: `max_epochs=30` reached.\n",
      "GPU available: False, used: False\n",
      "TPU available: False, using: 0 TPU cores\n",
      "IPU available: False, using: 0 IPUs\n",
      "HPU available: False, using: 0 HPUs\n",
      "c:\\Users\\nguyn\\AppData\\Local\\Programs\\Python\\Python312\\Lib\\site-packages\\lightning\\pytorch\\trainer\\configuration_validator.py:74: You defined a `validation_step` but have no `val_dataloader`. Skipping val loop.\n"
     ]
    },
    {
     "name": "stdout",
     "output_type": "stream",
     "text": [
      "texture_fractal_dimension\n"
     ]
    },
    {
     "name": "stderr",
     "output_type": "stream",
     "text": [
      "c:\\Users\\nguyn\\AppData\\Local\\Programs\\Python\\Python312\\Lib\\site-packages\\lightning\\pytorch\\trainer\\connectors\\data_connector.py:441: The 'train_dataloader' does not have many workers which may be a bottleneck. Consider increasing the value of the `num_workers` argument` to `num_workers=7` in the `DataLoader` to improve performance.\n",
      "c:\\Users\\nguyn\\AppData\\Local\\Programs\\Python\\Python312\\Lib\\site-packages\\lightning\\pytorch\\loops\\fit_loop.py:298: The number of training batches (1) is smaller than the logging interval Trainer(log_every_n_steps=50). Set a lower value for log_every_n_steps if you want to see logs for the training epoch.\n",
      "`Trainer.fit` stopped: `max_epochs=30` reached.\n",
      "GPU available: False, used: False\n",
      "TPU available: False, using: 0 TPU cores\n",
      "IPU available: False, using: 0 IPUs\n",
      "HPU available: False, using: 0 HPUs\n",
      "c:\\Users\\nguyn\\AppData\\Local\\Programs\\Python\\Python312\\Lib\\site-packages\\lightning\\pytorch\\trainer\\configuration_validator.py:74: You defined a `validation_step` but have no `val_dataloader`. Skipping val loop.\n",
      "c:\\Users\\nguyn\\AppData\\Local\\Programs\\Python\\Python312\\Lib\\site-packages\\lightning\\pytorch\\trainer\\connectors\\data_connector.py:441: The 'train_dataloader' does not have many workers which may be a bottleneck. Consider increasing the value of the `num_workers` argument` to `num_workers=7` in the `DataLoader` to improve performance.\n",
      "c:\\Users\\nguyn\\AppData\\Local\\Programs\\Python\\Python312\\Lib\\site-packages\\lightning\\pytorch\\loops\\fit_loop.py:298: The number of training batches (1) is smaller than the logging interval Trainer(log_every_n_steps=50). Set a lower value for log_every_n_steps if you want to see logs for the training epoch.\n"
     ]
    },
    {
     "name": "stdout",
     "output_type": "stream",
     "text": [
      "perimeter_area\n"
     ]
    },
    {
     "name": "stderr",
     "output_type": "stream",
     "text": [
      "`Trainer.fit` stopped: `max_epochs=30` reached.\n",
      "GPU available: False, used: False\n",
      "TPU available: False, using: 0 TPU cores\n",
      "IPU available: False, using: 0 IPUs\n",
      "HPU available: False, using: 0 HPUs\n",
      "c:\\Users\\nguyn\\AppData\\Local\\Programs\\Python\\Python312\\Lib\\site-packages\\lightning\\pytorch\\trainer\\configuration_validator.py:74: You defined a `validation_step` but have no `val_dataloader`. Skipping val loop.\n",
      "c:\\Users\\nguyn\\AppData\\Local\\Programs\\Python\\Python312\\Lib\\site-packages\\lightning\\pytorch\\trainer\\connectors\\data_connector.py:441: The 'train_dataloader' does not have many workers which may be a bottleneck. Consider increasing the value of the `num_workers` argument` to `num_workers=7` in the `DataLoader` to improve performance.\n",
      "c:\\Users\\nguyn\\AppData\\Local\\Programs\\Python\\Python312\\Lib\\site-packages\\lightning\\pytorch\\loops\\fit_loop.py:298: The number of training batches (1) is smaller than the logging interval Trainer(log_every_n_steps=50). Set a lower value for log_every_n_steps if you want to see logs for the training epoch.\n"
     ]
    },
    {
     "name": "stdout",
     "output_type": "stream",
     "text": [
      "perimeter_smoothness\n"
     ]
    },
    {
     "name": "stderr",
     "output_type": "stream",
     "text": [
      "`Trainer.fit` stopped: `max_epochs=30` reached.\n",
      "GPU available: False, used: False\n",
      "TPU available: False, using: 0 TPU cores\n",
      "IPU available: False, using: 0 IPUs\n",
      "HPU available: False, using: 0 HPUs\n",
      "c:\\Users\\nguyn\\AppData\\Local\\Programs\\Python\\Python312\\Lib\\site-packages\\lightning\\pytorch\\trainer\\configuration_validator.py:74: You defined a `validation_step` but have no `val_dataloader`. Skipping val loop.\n"
     ]
    },
    {
     "name": "stdout",
     "output_type": "stream",
     "text": [
      "perimeter_compactness\n"
     ]
    },
    {
     "name": "stderr",
     "output_type": "stream",
     "text": [
      "c:\\Users\\nguyn\\AppData\\Local\\Programs\\Python\\Python312\\Lib\\site-packages\\lightning\\pytorch\\trainer\\connectors\\data_connector.py:441: The 'train_dataloader' does not have many workers which may be a bottleneck. Consider increasing the value of the `num_workers` argument` to `num_workers=7` in the `DataLoader` to improve performance.\n",
      "c:\\Users\\nguyn\\AppData\\Local\\Programs\\Python\\Python312\\Lib\\site-packages\\lightning\\pytorch\\loops\\fit_loop.py:298: The number of training batches (1) is smaller than the logging interval Trainer(log_every_n_steps=50). Set a lower value for log_every_n_steps if you want to see logs for the training epoch.\n",
      "`Trainer.fit` stopped: `max_epochs=30` reached.\n",
      "GPU available: False, used: False\n",
      "TPU available: False, using: 0 TPU cores\n",
      "IPU available: False, using: 0 IPUs\n",
      "HPU available: False, using: 0 HPUs\n",
      "c:\\Users\\nguyn\\AppData\\Local\\Programs\\Python\\Python312\\Lib\\site-packages\\lightning\\pytorch\\trainer\\configuration_validator.py:74: You defined a `validation_step` but have no `val_dataloader`. Skipping val loop.\n",
      "c:\\Users\\nguyn\\AppData\\Local\\Programs\\Python\\Python312\\Lib\\site-packages\\lightning\\pytorch\\trainer\\connectors\\data_connector.py:441: The 'train_dataloader' does not have many workers which may be a bottleneck. Consider increasing the value of the `num_workers` argument` to `num_workers=7` in the `DataLoader` to improve performance.\n",
      "c:\\Users\\nguyn\\AppData\\Local\\Programs\\Python\\Python312\\Lib\\site-packages\\lightning\\pytorch\\loops\\fit_loop.py:298: The number of training batches (1) is smaller than the logging interval Trainer(log_every_n_steps=50). Set a lower value for log_every_n_steps if you want to see logs for the training epoch.\n"
     ]
    },
    {
     "name": "stdout",
     "output_type": "stream",
     "text": [
      "perimeter_concavity\n"
     ]
    },
    {
     "name": "stderr",
     "output_type": "stream",
     "text": [
      "`Trainer.fit` stopped: `max_epochs=30` reached.\n",
      "GPU available: False, used: False\n",
      "TPU available: False, using: 0 TPU cores\n",
      "IPU available: False, using: 0 IPUs\n",
      "HPU available: False, using: 0 HPUs\n",
      "c:\\Users\\nguyn\\AppData\\Local\\Programs\\Python\\Python312\\Lib\\site-packages\\lightning\\pytorch\\trainer\\configuration_validator.py:74: You defined a `validation_step` but have no `val_dataloader`. Skipping val loop.\n",
      "c:\\Users\\nguyn\\AppData\\Local\\Programs\\Python\\Python312\\Lib\\site-packages\\lightning\\pytorch\\trainer\\connectors\\data_connector.py:441: The 'train_dataloader' does not have many workers which may be a bottleneck. Consider increasing the value of the `num_workers` argument` to `num_workers=7` in the `DataLoader` to improve performance.\n",
      "c:\\Users\\nguyn\\AppData\\Local\\Programs\\Python\\Python312\\Lib\\site-packages\\lightning\\pytorch\\loops\\fit_loop.py:298: The number of training batches (1) is smaller than the logging interval Trainer(log_every_n_steps=50). Set a lower value for log_every_n_steps if you want to see logs for the training epoch.\n"
     ]
    },
    {
     "name": "stdout",
     "output_type": "stream",
     "text": [
      "perimeter_concave_points\n"
     ]
    },
    {
     "name": "stderr",
     "output_type": "stream",
     "text": [
      "`Trainer.fit` stopped: `max_epochs=30` reached.\n",
      "GPU available: False, used: False\n",
      "TPU available: False, using: 0 TPU cores\n",
      "IPU available: False, using: 0 IPUs\n",
      "HPU available: False, using: 0 HPUs\n",
      "c:\\Users\\nguyn\\AppData\\Local\\Programs\\Python\\Python312\\Lib\\site-packages\\lightning\\pytorch\\trainer\\configuration_validator.py:74: You defined a `validation_step` but have no `val_dataloader`. Skipping val loop.\n",
      "c:\\Users\\nguyn\\AppData\\Local\\Programs\\Python\\Python312\\Lib\\site-packages\\lightning\\pytorch\\trainer\\connectors\\data_connector.py:441: The 'train_dataloader' does not have many workers which may be a bottleneck. Consider increasing the value of the `num_workers` argument` to `num_workers=7` in the `DataLoader` to improve performance.\n",
      "c:\\Users\\nguyn\\AppData\\Local\\Programs\\Python\\Python312\\Lib\\site-packages\\lightning\\pytorch\\loops\\fit_loop.py:298: The number of training batches (1) is smaller than the logging interval Trainer(log_every_n_steps=50). Set a lower value for log_every_n_steps if you want to see logs for the training epoch.\n"
     ]
    },
    {
     "name": "stdout",
     "output_type": "stream",
     "text": [
      "perimeter_symmetry\n"
     ]
    },
    {
     "name": "stderr",
     "output_type": "stream",
     "text": [
      "`Trainer.fit` stopped: `max_epochs=30` reached.\n",
      "GPU available: False, used: False\n",
      "TPU available: False, using: 0 TPU cores\n",
      "IPU available: False, using: 0 IPUs\n",
      "HPU available: False, using: 0 HPUs\n",
      "c:\\Users\\nguyn\\AppData\\Local\\Programs\\Python\\Python312\\Lib\\site-packages\\lightning\\pytorch\\trainer\\configuration_validator.py:74: You defined a `validation_step` but have no `val_dataloader`. Skipping val loop.\n"
     ]
    },
    {
     "name": "stdout",
     "output_type": "stream",
     "text": [
      "perimeter_fractal_dimension\n"
     ]
    },
    {
     "name": "stderr",
     "output_type": "stream",
     "text": [
      "c:\\Users\\nguyn\\AppData\\Local\\Programs\\Python\\Python312\\Lib\\site-packages\\lightning\\pytorch\\trainer\\connectors\\data_connector.py:441: The 'train_dataloader' does not have many workers which may be a bottleneck. Consider increasing the value of the `num_workers` argument` to `num_workers=7` in the `DataLoader` to improve performance.\n",
      "c:\\Users\\nguyn\\AppData\\Local\\Programs\\Python\\Python312\\Lib\\site-packages\\lightning\\pytorch\\loops\\fit_loop.py:298: The number of training batches (1) is smaller than the logging interval Trainer(log_every_n_steps=50). Set a lower value for log_every_n_steps if you want to see logs for the training epoch.\n",
      "`Trainer.fit` stopped: `max_epochs=30` reached.\n",
      "GPU available: False, used: False\n",
      "TPU available: False, using: 0 TPU cores\n",
      "IPU available: False, using: 0 IPUs\n",
      "HPU available: False, using: 0 HPUs\n",
      "c:\\Users\\nguyn\\AppData\\Local\\Programs\\Python\\Python312\\Lib\\site-packages\\lightning\\pytorch\\trainer\\configuration_validator.py:74: You defined a `validation_step` but have no `val_dataloader`. Skipping val loop.\n",
      "c:\\Users\\nguyn\\AppData\\Local\\Programs\\Python\\Python312\\Lib\\site-packages\\lightning\\pytorch\\trainer\\connectors\\data_connector.py:441: The 'train_dataloader' does not have many workers which may be a bottleneck. Consider increasing the value of the `num_workers` argument` to `num_workers=7` in the `DataLoader` to improve performance.\n",
      "c:\\Users\\nguyn\\AppData\\Local\\Programs\\Python\\Python312\\Lib\\site-packages\\lightning\\pytorch\\loops\\fit_loop.py:298: The number of training batches (1) is smaller than the logging interval Trainer(log_every_n_steps=50). Set a lower value for log_every_n_steps if you want to see logs for the training epoch.\n"
     ]
    },
    {
     "name": "stdout",
     "output_type": "stream",
     "text": [
      "area_smoothness\n"
     ]
    },
    {
     "name": "stderr",
     "output_type": "stream",
     "text": [
      "`Trainer.fit` stopped: `max_epochs=30` reached.\n",
      "GPU available: False, used: False\n",
      "TPU available: False, using: 0 TPU cores\n",
      "IPU available: False, using: 0 IPUs\n",
      "HPU available: False, using: 0 HPUs\n",
      "c:\\Users\\nguyn\\AppData\\Local\\Programs\\Python\\Python312\\Lib\\site-packages\\lightning\\pytorch\\trainer\\configuration_validator.py:74: You defined a `validation_step` but have no `val_dataloader`. Skipping val loop.\n",
      "c:\\Users\\nguyn\\AppData\\Local\\Programs\\Python\\Python312\\Lib\\site-packages\\lightning\\pytorch\\trainer\\connectors\\data_connector.py:441: The 'train_dataloader' does not have many workers which may be a bottleneck. Consider increasing the value of the `num_workers` argument` to `num_workers=7` in the `DataLoader` to improve performance.\n",
      "c:\\Users\\nguyn\\AppData\\Local\\Programs\\Python\\Python312\\Lib\\site-packages\\lightning\\pytorch\\loops\\fit_loop.py:298: The number of training batches (1) is smaller than the logging interval Trainer(log_every_n_steps=50). Set a lower value for log_every_n_steps if you want to see logs for the training epoch.\n"
     ]
    },
    {
     "name": "stdout",
     "output_type": "stream",
     "text": [
      "area_compactness\n"
     ]
    },
    {
     "name": "stderr",
     "output_type": "stream",
     "text": [
      "`Trainer.fit` stopped: `max_epochs=30` reached.\n",
      "GPU available: False, used: False\n",
      "TPU available: False, using: 0 TPU cores\n",
      "IPU available: False, using: 0 IPUs\n",
      "HPU available: False, using: 0 HPUs\n",
      "c:\\Users\\nguyn\\AppData\\Local\\Programs\\Python\\Python312\\Lib\\site-packages\\lightning\\pytorch\\trainer\\configuration_validator.py:74: You defined a `validation_step` but have no `val_dataloader`. Skipping val loop.\n",
      "c:\\Users\\nguyn\\AppData\\Local\\Programs\\Python\\Python312\\Lib\\site-packages\\lightning\\pytorch\\trainer\\connectors\\data_connector.py:441: The 'train_dataloader' does not have many workers which may be a bottleneck. Consider increasing the value of the `num_workers` argument` to `num_workers=7` in the `DataLoader` to improve performance.\n",
      "c:\\Users\\nguyn\\AppData\\Local\\Programs\\Python\\Python312\\Lib\\site-packages\\lightning\\pytorch\\loops\\fit_loop.py:298: The number of training batches (1) is smaller than the logging interval Trainer(log_every_n_steps=50). Set a lower value for log_every_n_steps if you want to see logs for the training epoch.\n"
     ]
    },
    {
     "name": "stdout",
     "output_type": "stream",
     "text": [
      "area_concavity\n"
     ]
    },
    {
     "name": "stderr",
     "output_type": "stream",
     "text": [
      "`Trainer.fit` stopped: `max_epochs=30` reached.\n",
      "GPU available: False, used: False\n",
      "TPU available: False, using: 0 TPU cores\n",
      "IPU available: False, using: 0 IPUs\n",
      "HPU available: False, using: 0 HPUs\n",
      "c:\\Users\\nguyn\\AppData\\Local\\Programs\\Python\\Python312\\Lib\\site-packages\\lightning\\pytorch\\trainer\\configuration_validator.py:74: You defined a `validation_step` but have no `val_dataloader`. Skipping val loop.\n",
      "c:\\Users\\nguyn\\AppData\\Local\\Programs\\Python\\Python312\\Lib\\site-packages\\lightning\\pytorch\\trainer\\connectors\\data_connector.py:441: The 'train_dataloader' does not have many workers which may be a bottleneck. Consider increasing the value of the `num_workers` argument` to `num_workers=7` in the `DataLoader` to improve performance.\n",
      "c:\\Users\\nguyn\\AppData\\Local\\Programs\\Python\\Python312\\Lib\\site-packages\\lightning\\pytorch\\loops\\fit_loop.py:298: The number of training batches (1) is smaller than the logging interval Trainer(log_every_n_steps=50). Set a lower value for log_every_n_steps if you want to see logs for the training epoch.\n"
     ]
    },
    {
     "name": "stdout",
     "output_type": "stream",
     "text": [
      "area_concave_points\n"
     ]
    },
    {
     "name": "stderr",
     "output_type": "stream",
     "text": [
      "`Trainer.fit` stopped: `max_epochs=30` reached.\n",
      "GPU available: False, used: False\n",
      "TPU available: False, using: 0 TPU cores\n",
      "IPU available: False, using: 0 IPUs\n",
      "HPU available: False, using: 0 HPUs\n",
      "c:\\Users\\nguyn\\AppData\\Local\\Programs\\Python\\Python312\\Lib\\site-packages\\lightning\\pytorch\\trainer\\configuration_validator.py:74: You defined a `validation_step` but have no `val_dataloader`. Skipping val loop.\n",
      "c:\\Users\\nguyn\\AppData\\Local\\Programs\\Python\\Python312\\Lib\\site-packages\\lightning\\pytorch\\trainer\\connectors\\data_connector.py:441: The 'train_dataloader' does not have many workers which may be a bottleneck. Consider increasing the value of the `num_workers` argument` to `num_workers=7` in the `DataLoader` to improve performance.\n",
      "c:\\Users\\nguyn\\AppData\\Local\\Programs\\Python\\Python312\\Lib\\site-packages\\lightning\\pytorch\\loops\\fit_loop.py:298: The number of training batches (1) is smaller than the logging interval Trainer(log_every_n_steps=50). Set a lower value for log_every_n_steps if you want to see logs for the training epoch.\n"
     ]
    },
    {
     "name": "stdout",
     "output_type": "stream",
     "text": [
      "area_symmetry\n"
     ]
    },
    {
     "name": "stderr",
     "output_type": "stream",
     "text": [
      "`Trainer.fit` stopped: `max_epochs=30` reached.\n",
      "GPU available: False, used: False\n",
      "TPU available: False, using: 0 TPU cores\n",
      "IPU available: False, using: 0 IPUs\n",
      "HPU available: False, using: 0 HPUs\n",
      "c:\\Users\\nguyn\\AppData\\Local\\Programs\\Python\\Python312\\Lib\\site-packages\\lightning\\pytorch\\trainer\\configuration_validator.py:74: You defined a `validation_step` but have no `val_dataloader`. Skipping val loop.\n"
     ]
    },
    {
     "name": "stdout",
     "output_type": "stream",
     "text": [
      "area_fractal_dimension\n"
     ]
    },
    {
     "name": "stderr",
     "output_type": "stream",
     "text": [
      "c:\\Users\\nguyn\\AppData\\Local\\Programs\\Python\\Python312\\Lib\\site-packages\\lightning\\pytorch\\trainer\\connectors\\data_connector.py:441: The 'train_dataloader' does not have many workers which may be a bottleneck. Consider increasing the value of the `num_workers` argument` to `num_workers=7` in the `DataLoader` to improve performance.\n",
      "c:\\Users\\nguyn\\AppData\\Local\\Programs\\Python\\Python312\\Lib\\site-packages\\lightning\\pytorch\\loops\\fit_loop.py:298: The number of training batches (1) is smaller than the logging interval Trainer(log_every_n_steps=50). Set a lower value for log_every_n_steps if you want to see logs for the training epoch.\n",
      "`Trainer.fit` stopped: `max_epochs=30` reached.\n",
      "GPU available: False, used: False\n",
      "TPU available: False, using: 0 TPU cores\n",
      "IPU available: False, using: 0 IPUs\n",
      "HPU available: False, using: 0 HPUs\n",
      "c:\\Users\\nguyn\\AppData\\Local\\Programs\\Python\\Python312\\Lib\\site-packages\\lightning\\pytorch\\trainer\\configuration_validator.py:74: You defined a `validation_step` but have no `val_dataloader`. Skipping val loop.\n",
      "c:\\Users\\nguyn\\AppData\\Local\\Programs\\Python\\Python312\\Lib\\site-packages\\lightning\\pytorch\\trainer\\connectors\\data_connector.py:441: The 'train_dataloader' does not have many workers which may be a bottleneck. Consider increasing the value of the `num_workers` argument` to `num_workers=7` in the `DataLoader` to improve performance.\n",
      "c:\\Users\\nguyn\\AppData\\Local\\Programs\\Python\\Python312\\Lib\\site-packages\\lightning\\pytorch\\loops\\fit_loop.py:298: The number of training batches (1) is smaller than the logging interval Trainer(log_every_n_steps=50). Set a lower value for log_every_n_steps if you want to see logs for the training epoch.\n"
     ]
    },
    {
     "name": "stdout",
     "output_type": "stream",
     "text": [
      "smoothness_compactness\n"
     ]
    },
    {
     "name": "stderr",
     "output_type": "stream",
     "text": [
      "`Trainer.fit` stopped: `max_epochs=30` reached.\n",
      "GPU available: False, used: False\n",
      "TPU available: False, using: 0 TPU cores\n",
      "IPU available: False, using: 0 IPUs\n",
      "HPU available: False, using: 0 HPUs\n",
      "c:\\Users\\nguyn\\AppData\\Local\\Programs\\Python\\Python312\\Lib\\site-packages\\lightning\\pytorch\\trainer\\configuration_validator.py:74: You defined a `validation_step` but have no `val_dataloader`. Skipping val loop.\n"
     ]
    },
    {
     "name": "stdout",
     "output_type": "stream",
     "text": [
      "smoothness_concavity\n"
     ]
    },
    {
     "name": "stderr",
     "output_type": "stream",
     "text": [
      "c:\\Users\\nguyn\\AppData\\Local\\Programs\\Python\\Python312\\Lib\\site-packages\\lightning\\pytorch\\trainer\\connectors\\data_connector.py:441: The 'train_dataloader' does not have many workers which may be a bottleneck. Consider increasing the value of the `num_workers` argument` to `num_workers=7` in the `DataLoader` to improve performance.\n",
      "c:\\Users\\nguyn\\AppData\\Local\\Programs\\Python\\Python312\\Lib\\site-packages\\lightning\\pytorch\\loops\\fit_loop.py:298: The number of training batches (1) is smaller than the logging interval Trainer(log_every_n_steps=50). Set a lower value for log_every_n_steps if you want to see logs for the training epoch.\n",
      "`Trainer.fit` stopped: `max_epochs=30` reached.\n",
      "GPU available: False, used: False\n",
      "TPU available: False, using: 0 TPU cores\n",
      "IPU available: False, using: 0 IPUs\n",
      "HPU available: False, using: 0 HPUs\n",
      "c:\\Users\\nguyn\\AppData\\Local\\Programs\\Python\\Python312\\Lib\\site-packages\\lightning\\pytorch\\trainer\\configuration_validator.py:74: You defined a `validation_step` but have no `val_dataloader`. Skipping val loop.\n",
      "c:\\Users\\nguyn\\AppData\\Local\\Programs\\Python\\Python312\\Lib\\site-packages\\lightning\\pytorch\\trainer\\connectors\\data_connector.py:441: The 'train_dataloader' does not have many workers which may be a bottleneck. Consider increasing the value of the `num_workers` argument` to `num_workers=7` in the `DataLoader` to improve performance.\n",
      "c:\\Users\\nguyn\\AppData\\Local\\Programs\\Python\\Python312\\Lib\\site-packages\\lightning\\pytorch\\loops\\fit_loop.py:298: The number of training batches (1) is smaller than the logging interval Trainer(log_every_n_steps=50). Set a lower value for log_every_n_steps if you want to see logs for the training epoch.\n"
     ]
    },
    {
     "name": "stdout",
     "output_type": "stream",
     "text": [
      "smoothness_concave_points\n"
     ]
    },
    {
     "name": "stderr",
     "output_type": "stream",
     "text": [
      "`Trainer.fit` stopped: `max_epochs=30` reached.\n",
      "GPU available: False, used: False\n",
      "TPU available: False, using: 0 TPU cores\n",
      "IPU available: False, using: 0 IPUs\n",
      "HPU available: False, using: 0 HPUs\n",
      "c:\\Users\\nguyn\\AppData\\Local\\Programs\\Python\\Python312\\Lib\\site-packages\\lightning\\pytorch\\trainer\\configuration_validator.py:74: You defined a `validation_step` but have no `val_dataloader`. Skipping val loop.\n",
      "c:\\Users\\nguyn\\AppData\\Local\\Programs\\Python\\Python312\\Lib\\site-packages\\lightning\\pytorch\\trainer\\connectors\\data_connector.py:441: The 'train_dataloader' does not have many workers which may be a bottleneck. Consider increasing the value of the `num_workers` argument` to `num_workers=7` in the `DataLoader` to improve performance.\n",
      "c:\\Users\\nguyn\\AppData\\Local\\Programs\\Python\\Python312\\Lib\\site-packages\\lightning\\pytorch\\loops\\fit_loop.py:298: The number of training batches (1) is smaller than the logging interval Trainer(log_every_n_steps=50). Set a lower value for log_every_n_steps if you want to see logs for the training epoch.\n"
     ]
    },
    {
     "name": "stdout",
     "output_type": "stream",
     "text": [
      "smoothness_symmetry\n"
     ]
    },
    {
     "name": "stderr",
     "output_type": "stream",
     "text": [
      "`Trainer.fit` stopped: `max_epochs=30` reached.\n",
      "GPU available: False, used: False\n",
      "TPU available: False, using: 0 TPU cores\n",
      "IPU available: False, using: 0 IPUs\n",
      "HPU available: False, using: 0 HPUs\n",
      "c:\\Users\\nguyn\\AppData\\Local\\Programs\\Python\\Python312\\Lib\\site-packages\\lightning\\pytorch\\trainer\\configuration_validator.py:74: You defined a `validation_step` but have no `val_dataloader`. Skipping val loop.\n",
      "c:\\Users\\nguyn\\AppData\\Local\\Programs\\Python\\Python312\\Lib\\site-packages\\lightning\\pytorch\\trainer\\connectors\\data_connector.py:441: The 'train_dataloader' does not have many workers which may be a bottleneck. Consider increasing the value of the `num_workers` argument` to `num_workers=7` in the `DataLoader` to improve performance.\n",
      "c:\\Users\\nguyn\\AppData\\Local\\Programs\\Python\\Python312\\Lib\\site-packages\\lightning\\pytorch\\loops\\fit_loop.py:298: The number of training batches (1) is smaller than the logging interval Trainer(log_every_n_steps=50). Set a lower value for log_every_n_steps if you want to see logs for the training epoch.\n"
     ]
    },
    {
     "name": "stdout",
     "output_type": "stream",
     "text": [
      "smoothness_fractal_dimension\n"
     ]
    },
    {
     "name": "stderr",
     "output_type": "stream",
     "text": [
      "`Trainer.fit` stopped: `max_epochs=30` reached.\n",
      "GPU available: False, used: False\n",
      "TPU available: False, using: 0 TPU cores\n",
      "IPU available: False, using: 0 IPUs\n",
      "HPU available: False, using: 0 HPUs\n",
      "c:\\Users\\nguyn\\AppData\\Local\\Programs\\Python\\Python312\\Lib\\site-packages\\lightning\\pytorch\\trainer\\configuration_validator.py:74: You defined a `validation_step` but have no `val_dataloader`. Skipping val loop.\n",
      "c:\\Users\\nguyn\\AppData\\Local\\Programs\\Python\\Python312\\Lib\\site-packages\\lightning\\pytorch\\trainer\\connectors\\data_connector.py:441: The 'train_dataloader' does not have many workers which may be a bottleneck. Consider increasing the value of the `num_workers` argument` to `num_workers=7` in the `DataLoader` to improve performance.\n",
      "c:\\Users\\nguyn\\AppData\\Local\\Programs\\Python\\Python312\\Lib\\site-packages\\lightning\\pytorch\\loops\\fit_loop.py:298: The number of training batches (1) is smaller than the logging interval Trainer(log_every_n_steps=50). Set a lower value for log_every_n_steps if you want to see logs for the training epoch.\n"
     ]
    },
    {
     "name": "stdout",
     "output_type": "stream",
     "text": [
      "compactness_concavity\n"
     ]
    },
    {
     "name": "stderr",
     "output_type": "stream",
     "text": [
      "`Trainer.fit` stopped: `max_epochs=30` reached.\n",
      "GPU available: False, used: False\n",
      "TPU available: False, using: 0 TPU cores\n",
      "IPU available: False, using: 0 IPUs\n",
      "HPU available: False, using: 0 HPUs\n",
      "c:\\Users\\nguyn\\AppData\\Local\\Programs\\Python\\Python312\\Lib\\site-packages\\lightning\\pytorch\\trainer\\configuration_validator.py:74: You defined a `validation_step` but have no `val_dataloader`. Skipping val loop.\n",
      "c:\\Users\\nguyn\\AppData\\Local\\Programs\\Python\\Python312\\Lib\\site-packages\\lightning\\pytorch\\trainer\\connectors\\data_connector.py:441: The 'train_dataloader' does not have many workers which may be a bottleneck. Consider increasing the value of the `num_workers` argument` to `num_workers=7` in the `DataLoader` to improve performance.\n",
      "c:\\Users\\nguyn\\AppData\\Local\\Programs\\Python\\Python312\\Lib\\site-packages\\lightning\\pytorch\\loops\\fit_loop.py:298: The number of training batches (1) is smaller than the logging interval Trainer(log_every_n_steps=50). Set a lower value for log_every_n_steps if you want to see logs for the training epoch.\n"
     ]
    },
    {
     "name": "stdout",
     "output_type": "stream",
     "text": [
      "compactness_concave_points\n"
     ]
    },
    {
     "name": "stderr",
     "output_type": "stream",
     "text": [
      "`Trainer.fit` stopped: `max_epochs=30` reached.\n",
      "GPU available: False, used: False\n",
      "TPU available: False, using: 0 TPU cores\n",
      "IPU available: False, using: 0 IPUs\n",
      "HPU available: False, using: 0 HPUs\n",
      "c:\\Users\\nguyn\\AppData\\Local\\Programs\\Python\\Python312\\Lib\\site-packages\\lightning\\pytorch\\trainer\\configuration_validator.py:74: You defined a `validation_step` but have no `val_dataloader`. Skipping val loop.\n",
      "c:\\Users\\nguyn\\AppData\\Local\\Programs\\Python\\Python312\\Lib\\site-packages\\lightning\\pytorch\\trainer\\connectors\\data_connector.py:441: The 'train_dataloader' does not have many workers which may be a bottleneck. Consider increasing the value of the `num_workers` argument` to `num_workers=7` in the `DataLoader` to improve performance.\n",
      "c:\\Users\\nguyn\\AppData\\Local\\Programs\\Python\\Python312\\Lib\\site-packages\\lightning\\pytorch\\loops\\fit_loop.py:298: The number of training batches (1) is smaller than the logging interval Trainer(log_every_n_steps=50). Set a lower value for log_every_n_steps if you want to see logs for the training epoch.\n"
     ]
    },
    {
     "name": "stdout",
     "output_type": "stream",
     "text": [
      "compactness_symmetry\n"
     ]
    },
    {
     "name": "stderr",
     "output_type": "stream",
     "text": [
      "`Trainer.fit` stopped: `max_epochs=30` reached.\n",
      "GPU available: False, used: False\n",
      "TPU available: False, using: 0 TPU cores\n",
      "IPU available: False, using: 0 IPUs\n",
      "HPU available: False, using: 0 HPUs\n",
      "c:\\Users\\nguyn\\AppData\\Local\\Programs\\Python\\Python312\\Lib\\site-packages\\lightning\\pytorch\\trainer\\configuration_validator.py:74: You defined a `validation_step` but have no `val_dataloader`. Skipping val loop.\n",
      "c:\\Users\\nguyn\\AppData\\Local\\Programs\\Python\\Python312\\Lib\\site-packages\\lightning\\pytorch\\trainer\\connectors\\data_connector.py:441: The 'train_dataloader' does not have many workers which may be a bottleneck. Consider increasing the value of the `num_workers` argument` to `num_workers=7` in the `DataLoader` to improve performance.\n",
      "c:\\Users\\nguyn\\AppData\\Local\\Programs\\Python\\Python312\\Lib\\site-packages\\lightning\\pytorch\\loops\\fit_loop.py:298: The number of training batches (1) is smaller than the logging interval Trainer(log_every_n_steps=50). Set a lower value for log_every_n_steps if you want to see logs for the training epoch.\n"
     ]
    },
    {
     "name": "stdout",
     "output_type": "stream",
     "text": [
      "compactness_fractal_dimension\n"
     ]
    },
    {
     "name": "stderr",
     "output_type": "stream",
     "text": [
      "`Trainer.fit` stopped: `max_epochs=30` reached.\n",
      "GPU available: False, used: False\n",
      "TPU available: False, using: 0 TPU cores\n",
      "IPU available: False, using: 0 IPUs\n",
      "HPU available: False, using: 0 HPUs\n",
      "c:\\Users\\nguyn\\AppData\\Local\\Programs\\Python\\Python312\\Lib\\site-packages\\lightning\\pytorch\\trainer\\configuration_validator.py:74: You defined a `validation_step` but have no `val_dataloader`. Skipping val loop.\n",
      "c:\\Users\\nguyn\\AppData\\Local\\Programs\\Python\\Python312\\Lib\\site-packages\\lightning\\pytorch\\trainer\\connectors\\data_connector.py:441: The 'train_dataloader' does not have many workers which may be a bottleneck. Consider increasing the value of the `num_workers` argument` to `num_workers=7` in the `DataLoader` to improve performance.\n",
      "c:\\Users\\nguyn\\AppData\\Local\\Programs\\Python\\Python312\\Lib\\site-packages\\lightning\\pytorch\\loops\\fit_loop.py:298: The number of training batches (1) is smaller than the logging interval Trainer(log_every_n_steps=50). Set a lower value for log_every_n_steps if you want to see logs for the training epoch.\n"
     ]
    },
    {
     "name": "stdout",
     "output_type": "stream",
     "text": [
      "concavity_concave_points\n"
     ]
    },
    {
     "name": "stderr",
     "output_type": "stream",
     "text": [
      "`Trainer.fit` stopped: `max_epochs=30` reached.\n",
      "GPU available: False, used: False\n",
      "TPU available: False, using: 0 TPU cores\n",
      "IPU available: False, using: 0 IPUs\n",
      "HPU available: False, using: 0 HPUs\n",
      "c:\\Users\\nguyn\\AppData\\Local\\Programs\\Python\\Python312\\Lib\\site-packages\\lightning\\pytorch\\trainer\\configuration_validator.py:74: You defined a `validation_step` but have no `val_dataloader`. Skipping val loop.\n",
      "c:\\Users\\nguyn\\AppData\\Local\\Programs\\Python\\Python312\\Lib\\site-packages\\lightning\\pytorch\\trainer\\connectors\\data_connector.py:441: The 'train_dataloader' does not have many workers which may be a bottleneck. Consider increasing the value of the `num_workers` argument` to `num_workers=7` in the `DataLoader` to improve performance.\n",
      "c:\\Users\\nguyn\\AppData\\Local\\Programs\\Python\\Python312\\Lib\\site-packages\\lightning\\pytorch\\loops\\fit_loop.py:298: The number of training batches (1) is smaller than the logging interval Trainer(log_every_n_steps=50). Set a lower value for log_every_n_steps if you want to see logs for the training epoch.\n"
     ]
    },
    {
     "name": "stdout",
     "output_type": "stream",
     "text": [
      "concavity_symmetry\n"
     ]
    },
    {
     "name": "stderr",
     "output_type": "stream",
     "text": [
      "`Trainer.fit` stopped: `max_epochs=30` reached.\n",
      "GPU available: False, used: False\n",
      "TPU available: False, using: 0 TPU cores\n",
      "IPU available: False, using: 0 IPUs\n",
      "HPU available: False, using: 0 HPUs\n",
      "c:\\Users\\nguyn\\AppData\\Local\\Programs\\Python\\Python312\\Lib\\site-packages\\lightning\\pytorch\\trainer\\configuration_validator.py:74: You defined a `validation_step` but have no `val_dataloader`. Skipping val loop.\n",
      "c:\\Users\\nguyn\\AppData\\Local\\Programs\\Python\\Python312\\Lib\\site-packages\\lightning\\pytorch\\trainer\\connectors\\data_connector.py:441: The 'train_dataloader' does not have many workers which may be a bottleneck. Consider increasing the value of the `num_workers` argument` to `num_workers=7` in the `DataLoader` to improve performance.\n",
      "c:\\Users\\nguyn\\AppData\\Local\\Programs\\Python\\Python312\\Lib\\site-packages\\lightning\\pytorch\\loops\\fit_loop.py:298: The number of training batches (1) is smaller than the logging interval Trainer(log_every_n_steps=50). Set a lower value for log_every_n_steps if you want to see logs for the training epoch.\n"
     ]
    },
    {
     "name": "stdout",
     "output_type": "stream",
     "text": [
      "concavity_fractal_dimension\n"
     ]
    },
    {
     "name": "stderr",
     "output_type": "stream",
     "text": [
      "`Trainer.fit` stopped: `max_epochs=30` reached.\n",
      "GPU available: False, used: False\n",
      "TPU available: False, using: 0 TPU cores\n",
      "IPU available: False, using: 0 IPUs\n",
      "HPU available: False, using: 0 HPUs\n",
      "c:\\Users\\nguyn\\AppData\\Local\\Programs\\Python\\Python312\\Lib\\site-packages\\lightning\\pytorch\\trainer\\configuration_validator.py:74: You defined a `validation_step` but have no `val_dataloader`. Skipping val loop.\n",
      "c:\\Users\\nguyn\\AppData\\Local\\Programs\\Python\\Python312\\Lib\\site-packages\\lightning\\pytorch\\trainer\\connectors\\data_connector.py:441: The 'train_dataloader' does not have many workers which may be a bottleneck. Consider increasing the value of the `num_workers` argument` to `num_workers=7` in the `DataLoader` to improve performance.\n",
      "c:\\Users\\nguyn\\AppData\\Local\\Programs\\Python\\Python312\\Lib\\site-packages\\lightning\\pytorch\\loops\\fit_loop.py:298: The number of training batches (1) is smaller than the logging interval Trainer(log_every_n_steps=50). Set a lower value for log_every_n_steps if you want to see logs for the training epoch.\n"
     ]
    },
    {
     "name": "stdout",
     "output_type": "stream",
     "text": [
      "concave_points_symmetry\n"
     ]
    },
    {
     "name": "stderr",
     "output_type": "stream",
     "text": [
      "`Trainer.fit` stopped: `max_epochs=30` reached.\n",
      "GPU available: False, used: False\n",
      "TPU available: False, using: 0 TPU cores\n",
      "IPU available: False, using: 0 IPUs\n",
      "HPU available: False, using: 0 HPUs\n",
      "c:\\Users\\nguyn\\AppData\\Local\\Programs\\Python\\Python312\\Lib\\site-packages\\lightning\\pytorch\\trainer\\configuration_validator.py:74: You defined a `validation_step` but have no `val_dataloader`. Skipping val loop.\n"
     ]
    },
    {
     "name": "stdout",
     "output_type": "stream",
     "text": [
      "concave_points_fractal_dimension\n"
     ]
    },
    {
     "name": "stderr",
     "output_type": "stream",
     "text": [
      "c:\\Users\\nguyn\\AppData\\Local\\Programs\\Python\\Python312\\Lib\\site-packages\\lightning\\pytorch\\trainer\\connectors\\data_connector.py:441: The 'train_dataloader' does not have many workers which may be a bottleneck. Consider increasing the value of the `num_workers` argument` to `num_workers=7` in the `DataLoader` to improve performance.\n",
      "c:\\Users\\nguyn\\AppData\\Local\\Programs\\Python\\Python312\\Lib\\site-packages\\lightning\\pytorch\\loops\\fit_loop.py:298: The number of training batches (1) is smaller than the logging interval Trainer(log_every_n_steps=50). Set a lower value for log_every_n_steps if you want to see logs for the training epoch.\n",
      "`Trainer.fit` stopped: `max_epochs=30` reached.\n",
      "GPU available: False, used: False\n",
      "TPU available: False, using: 0 TPU cores\n",
      "IPU available: False, using: 0 IPUs\n",
      "HPU available: False, using: 0 HPUs\n",
      "c:\\Users\\nguyn\\AppData\\Local\\Programs\\Python\\Python312\\Lib\\site-packages\\lightning\\pytorch\\trainer\\configuration_validator.py:74: You defined a `validation_step` but have no `val_dataloader`. Skipping val loop.\n",
      "c:\\Users\\nguyn\\AppData\\Local\\Programs\\Python\\Python312\\Lib\\site-packages\\lightning\\pytorch\\trainer\\connectors\\data_connector.py:441: The 'train_dataloader' does not have many workers which may be a bottleneck. Consider increasing the value of the `num_workers` argument` to `num_workers=7` in the `DataLoader` to improve performance.\n",
      "c:\\Users\\nguyn\\AppData\\Local\\Programs\\Python\\Python312\\Lib\\site-packages\\lightning\\pytorch\\loops\\fit_loop.py:298: The number of training batches (1) is smaller than the logging interval Trainer(log_every_n_steps=50). Set a lower value for log_every_n_steps if you want to see logs for the training epoch.\n"
     ]
    },
    {
     "name": "stdout",
     "output_type": "stream",
     "text": [
      "symmetry_fractal_dimension\n"
     ]
    },
    {
     "name": "stderr",
     "output_type": "stream",
     "text": [
      "`Trainer.fit` stopped: `max_epochs=30` reached.\n"
     ]
    },
    {
     "name": "stdout",
     "output_type": "stream",
     "text": [
      "{'radius_texture': 0.9285714285714286, 'radius_perimeter': 0.9183673469387755, 'radius_area': 0.9183673469387755, 'radius_smoothness': 0.9387755102040817, 'radius_compactness': 0.9387755102040817, 'radius_concavity': 0.9591836734693877, 'radius_concave_points': 0.9489795918367347, 'radius_symmetry': 0.9387755102040817, 'radius_fractal_dimension': 0.9489795918367347, 'texture_perimeter': 0.9489795918367347, 'texture_area': 0.9489795918367347, 'texture_smoothness': 0.826530612244898, 'texture_compactness': 0.8979591836734694, 'texture_concavity': 0.9591836734693877, 'texture_concave_points': 0.9795918367346939, 'texture_symmetry': 0.826530612244898, 'texture_fractal_dimension': 0.8571428571428571, 'perimeter_area': 0.9285714285714286, 'perimeter_smoothness': 0.9387755102040817, 'perimeter_compactness': 0.9285714285714286, 'perimeter_concavity': 0.9591836734693877, 'perimeter_concave_points': 0.9489795918367347, 'perimeter_symmetry': 0.9387755102040817, 'perimeter_fractal_dimension': 0.9591836734693877, 'area_smoothness': 0.9591836734693877, 'area_compactness': 0.9489795918367347, 'area_concavity': 0.9489795918367347, 'area_concave_points': 0.9489795918367347, 'area_symmetry': 0.9387755102040817, 'area_fractal_dimension': 0.9285714285714286, 'smoothness_compactness': 0.8877551020408163, 'smoothness_concavity': 0.9285714285714286, 'smoothness_concave_points': 0.9387755102040817, 'smoothness_symmetry': 0.8061224489795918, 'smoothness_fractal_dimension': 0.8877551020408163, 'compactness_concavity': 0.9387755102040817, 'compactness_concave_points': 0.9081632653061225, 'compactness_symmetry': 0.826530612244898, 'compactness_fractal_dimension': 0.8877551020408163, 'concavity_concave_points': 0.9183673469387755, 'concavity_symmetry': 0.9285714285714286, 'concavity_fractal_dimension': 0.9387755102040817, 'concave_points_symmetry': 0.9183673469387755, 'concave_points_fractal_dimension': 0.9183673469387755, 'symmetry_fractal_dimension': 0.826530612244898}\n",
      "----\\----\n",
      "Tập có accuracy cao nhất: texture_concave_points\n",
      "Accuracy: 0.9795918367346939\n"
     ]
    }
   ],
   "source": [
    "class DictDataset(Dataset):\n",
    "    def __init__(self, data_dict):\n",
    "        self.data_dict = data_dict\n",
    "        self.keys = list(data_dict.keys())\n",
    "\n",
    "    def __len__(self):\n",
    "        return len(self.data_dict[self.keys[0]])\n",
    "\n",
    "    def __getitem__(self, index):\n",
    "        sample = {key: self.data_dict[key][index] for key in self.keys}\n",
    "        return sample\n",
    "\n",
    "all_attributes = list(data_train_dict.keys())\n",
    "all_subsets = combinations(all_attributes, 2)\n",
    "\n",
    "data_train_subsets = {}\n",
    "data_test_subsets = {}\n",
    "\n",
    "for subset in all_subsets:\n",
    "    subset_name = \"_\".join(subset)\n",
    "    subset_train_values = [data_train_dict[attr] for attr in subset]\n",
    "    subset_test_values = [data_test_dict[attr] for attr in subset]\n",
    "    data_train_subsets[subset_name] = subset_train_values\n",
    "    data_test_subsets[subset_name] = subset_test_values\n",
    "\n",
    "best_accuracy = 0\n",
    "best_subset = None\n",
    "\n",
    "res = {}\n",
    "\n",
    "for subset_name, subset_values in data_train_subsets.items():\n",
    "    print(subset_name)\n",
    "    \n",
    "    views_tensors = [value.astype(np.float32) for value in subset_values]\n",
    "    test_views = [value.astype(np.float32) for value in data_test_subsets[subset_name]]\n",
    "    label_tensor = y_train\n",
    "    index_tensor = np.arange(len(y_train))\n",
    "        \n",
    "    custom_dataset = {\n",
    "        \"views\": views_tensors,\n",
    "        \"label\": label_tensor,\n",
    "        \"index\": index_tensor\n",
    "    }\n",
    "    train_dataset = DictDataset(custom_dataset)\n",
    "\n",
    "    trainloader = DataLoader(train_dataset, batch_size=32, shuffle=False)\n",
    "\n",
    "    latent_dims = 10\n",
    "    max_epoch = 30\n",
    "\n",
    "    encoder_1 = architectures.Encoder(latent_dimensions=latent_dims, feature_size=3)\n",
    "    encoder_2 = architectures.Encoder(latent_dimensions=latent_dims, feature_size=3)\n",
    "\n",
    "    dcca = DCCA(latent_dimensions=latent_dims, encoders=[encoder_1, encoder_2])\n",
    "    trainer = pl.Trainer(\n",
    "        max_epochs=max_epoch,\n",
    "        enable_checkpointing=False,\n",
    "        enable_model_summary=False,\n",
    "        enable_progress_bar=False,\n",
    "    )\n",
    "    trainer.fit(dcca, trainloader)\n",
    "\n",
    "    X_train_dcca = dcca.transform(trainloader)\n",
    "\n",
    "    test_dataset = DictDataset({\n",
    "        \"views\": test_views\n",
    "    })\n",
    "\n",
    "    testloader = DataLoader(test_dataset, batch_size=32, shuffle=False)\n",
    "    X_test_dcca = dcca.transform(testloader)\n",
    "\n",
    "    merged_list = []\n",
    "\n",
    "    for i in range(len(X_train_dcca[0])):\n",
    "        new_sublist = []\n",
    "        for sublist_group in X_train_dcca:\n",
    "            new_sublist.extend(sublist_group[i])\n",
    "        merged_list.append(new_sublist)\n",
    "\n",
    "    X_train_dcca = merged_list\n",
    "\n",
    "    merged_list = []\n",
    "\n",
    "    for i in range(len(X_test_dcca[0])):\n",
    "        new_sublist = []\n",
    "        for sublist_group in X_test_dcca:\n",
    "            new_sublist.extend(sublist_group[i])\n",
    "        merged_list.append(new_sublist)\n",
    "\n",
    "    X_test_dcca = merged_list\n",
    "\n",
    "    log_reg = LogisticRegression()\n",
    "    log_reg.fit(X_train_dcca, y_train)\n",
    "\n",
    "    y_dcca_pred = log_reg.predict(X_test_dcca)\n",
    "    accuracy = accuracy_score(y_test, y_dcca_pred)\n",
    "    res[subset_name] = accuracy\n",
    "\n",
    "    if accuracy > best_accuracy:\n",
    "        best_accuracy = accuracy\n",
    "        best_subset = subset_name\n",
    "\n",
    "print(res)\n",
    "\n",
    "print(\"----\\----\")\n",
    "print(\"Tập có accuracy cao nhất:\", best_subset)\n",
    "print(\"Accuracy:\", best_accuracy)"
   ]
  },
  {
   "cell_type": "markdown",
   "metadata": {},
   "source": [
    "### Tensor CCA"
   ]
  },
  {
   "cell_type": "code",
   "execution_count": 105,
   "metadata": {},
   "outputs": [],
   "source": [
    "def generate_subsets(attributes):\n",
    "    subsets = []\n",
    "    for r in range(1, len(attributes) + 1):\n",
    "        subsets.extend(combinations(attributes, r))\n",
    "    return subsets\n",
    "\n",
    "all_attributes = list(data_train_dict.keys())\n",
    "all_subsets = generate_subsets(all_attributes)\n",
    "\n",
    "data_train_subsets = {}\n",
    "data_test_subsets = {}\n",
    "\n",
    "for subset in all_subsets:\n",
    "    subset_name = \"_\".join(subset)\n",
    "    subset_train_values = [data_train_dict[attr] for attr in subset]\n",
    "    subset_test_values = [data_test_dict[attr] for attr in subset]\n",
    "    data_train_subsets[subset_name] = subset_train_values\n",
    "    data_test_subsets[subset_name] = subset_test_values"
   ]
  },
  {
   "cell_type": "code",
   "execution_count": 106,
   "metadata": {},
   "outputs": [
    {
     "name": "stderr",
     "output_type": "stream",
     "text": [
      "<>:30: SyntaxWarning: invalid escape sequence '\\-'\n",
      "<>:30: SyntaxWarning: invalid escape sequence '\\-'\n",
      "C:\\Users\\nguyn\\AppData\\Local\\Temp\\ipykernel_19436\\821506387.py:30: SyntaxWarning: invalid escape sequence '\\-'\n",
      "  print(\"----\\----\")\n",
      "c:\\Users\\nguyn\\AppData\\Local\\Programs\\Python\\Python312\\Lib\\site-packages\\sklearn\\linear_model\\_logistic.py:460: ConvergenceWarning: lbfgs failed to converge (status=1):\n",
      "STOP: TOTAL NO. of ITERATIONS REACHED LIMIT.\n",
      "\n",
      "Increase the number of iterations (max_iter) or scale the data as shown in:\n",
      "    https://scikit-learn.org/stable/modules/preprocessing.html\n",
      "Please also refer to the documentation for alternative solver options:\n",
      "    https://scikit-learn.org/stable/modules/linear_model.html#logistic-regression\n",
      "  n_iter_i = _check_optimize_result(\n",
      "c:\\Users\\nguyn\\AppData\\Local\\Programs\\Python\\Python312\\Lib\\site-packages\\sklearn\\linear_model\\_logistic.py:460: ConvergenceWarning: lbfgs failed to converge (status=1):\n",
      "STOP: TOTAL NO. of ITERATIONS REACHED LIMIT.\n",
      "\n",
      "Increase the number of iterations (max_iter) or scale the data as shown in:\n",
      "    https://scikit-learn.org/stable/modules/preprocessing.html\n",
      "Please also refer to the documentation for alternative solver options:\n",
      "    https://scikit-learn.org/stable/modules/linear_model.html#logistic-regression\n",
      "  n_iter_i = _check_optimize_result(\n",
      "c:\\Users\\nguyn\\AppData\\Local\\Programs\\Python\\Python312\\Lib\\site-packages\\sklearn\\linear_model\\_logistic.py:460: ConvergenceWarning: lbfgs failed to converge (status=1):\n",
      "STOP: TOTAL NO. of ITERATIONS REACHED LIMIT.\n",
      "\n",
      "Increase the number of iterations (max_iter) or scale the data as shown in:\n",
      "    https://scikit-learn.org/stable/modules/preprocessing.html\n",
      "Please also refer to the documentation for alternative solver options:\n",
      "    https://scikit-learn.org/stable/modules/linear_model.html#logistic-regression\n",
      "  n_iter_i = _check_optimize_result(\n",
      "c:\\Users\\nguyn\\AppData\\Local\\Programs\\Python\\Python312\\Lib\\site-packages\\sklearn\\linear_model\\_logistic.py:460: ConvergenceWarning: lbfgs failed to converge (status=1):\n",
      "STOP: TOTAL NO. of ITERATIONS REACHED LIMIT.\n",
      "\n",
      "Increase the number of iterations (max_iter) or scale the data as shown in:\n",
      "    https://scikit-learn.org/stable/modules/preprocessing.html\n",
      "Please also refer to the documentation for alternative solver options:\n",
      "    https://scikit-learn.org/stable/modules/linear_model.html#logistic-regression\n",
      "  n_iter_i = _check_optimize_result(\n",
      "c:\\Users\\nguyn\\AppData\\Local\\Programs\\Python\\Python312\\Lib\\site-packages\\sklearn\\linear_model\\_logistic.py:460: ConvergenceWarning: lbfgs failed to converge (status=1):\n",
      "STOP: TOTAL NO. of ITERATIONS REACHED LIMIT.\n",
      "\n",
      "Increase the number of iterations (max_iter) or scale the data as shown in:\n",
      "    https://scikit-learn.org/stable/modules/preprocessing.html\n",
      "Please also refer to the documentation for alternative solver options:\n",
      "    https://scikit-learn.org/stable/modules/linear_model.html#logistic-regression\n",
      "  n_iter_i = _check_optimize_result(\n",
      "c:\\Users\\nguyn\\AppData\\Local\\Programs\\Python\\Python312\\Lib\\site-packages\\sklearn\\linear_model\\_logistic.py:460: ConvergenceWarning: lbfgs failed to converge (status=1):\n",
      "STOP: TOTAL NO. of ITERATIONS REACHED LIMIT.\n",
      "\n",
      "Increase the number of iterations (max_iter) or scale the data as shown in:\n",
      "    https://scikit-learn.org/stable/modules/preprocessing.html\n",
      "Please also refer to the documentation for alternative solver options:\n",
      "    https://scikit-learn.org/stable/modules/linear_model.html#logistic-regression\n",
      "  n_iter_i = _check_optimize_result(\n",
      "c:\\Users\\nguyn\\AppData\\Local\\Programs\\Python\\Python312\\Lib\\site-packages\\sklearn\\linear_model\\_logistic.py:460: ConvergenceWarning: lbfgs failed to converge (status=1):\n",
      "STOP: TOTAL NO. of ITERATIONS REACHED LIMIT.\n",
      "\n",
      "Increase the number of iterations (max_iter) or scale the data as shown in:\n",
      "    https://scikit-learn.org/stable/modules/preprocessing.html\n",
      "Please also refer to the documentation for alternative solver options:\n",
      "    https://scikit-learn.org/stable/modules/linear_model.html#logistic-regression\n",
      "  n_iter_i = _check_optimize_result(\n",
      "c:\\Users\\nguyn\\AppData\\Local\\Programs\\Python\\Python312\\Lib\\site-packages\\sklearn\\linear_model\\_logistic.py:460: ConvergenceWarning: lbfgs failed to converge (status=1):\n",
      "STOP: TOTAL NO. of ITERATIONS REACHED LIMIT.\n",
      "\n",
      "Increase the number of iterations (max_iter) or scale the data as shown in:\n",
      "    https://scikit-learn.org/stable/modules/preprocessing.html\n",
      "Please also refer to the documentation for alternative solver options:\n",
      "    https://scikit-learn.org/stable/modules/linear_model.html#logistic-regression\n",
      "  n_iter_i = _check_optimize_result(\n",
      "c:\\Users\\nguyn\\AppData\\Local\\Programs\\Python\\Python312\\Lib\\site-packages\\sklearn\\linear_model\\_logistic.py:460: ConvergenceWarning: lbfgs failed to converge (status=1):\n",
      "STOP: TOTAL NO. of ITERATIONS REACHED LIMIT.\n",
      "\n",
      "Increase the number of iterations (max_iter) or scale the data as shown in:\n",
      "    https://scikit-learn.org/stable/modules/preprocessing.html\n",
      "Please also refer to the documentation for alternative solver options:\n",
      "    https://scikit-learn.org/stable/modules/linear_model.html#logistic-regression\n",
      "  n_iter_i = _check_optimize_result(\n",
      "c:\\Users\\nguyn\\AppData\\Local\\Programs\\Python\\Python312\\Lib\\site-packages\\sklearn\\linear_model\\_logistic.py:460: ConvergenceWarning: lbfgs failed to converge (status=1):\n",
      "STOP: TOTAL NO. of ITERATIONS REACHED LIMIT.\n",
      "\n",
      "Increase the number of iterations (max_iter) or scale the data as shown in:\n",
      "    https://scikit-learn.org/stable/modules/preprocessing.html\n",
      "Please also refer to the documentation for alternative solver options:\n",
      "    https://scikit-learn.org/stable/modules/linear_model.html#logistic-regression\n",
      "  n_iter_i = _check_optimize_result(\n",
      "c:\\Users\\nguyn\\AppData\\Local\\Programs\\Python\\Python312\\Lib\\site-packages\\sklearn\\linear_model\\_logistic.py:460: ConvergenceWarning: lbfgs failed to converge (status=1):\n",
      "STOP: TOTAL NO. of ITERATIONS REACHED LIMIT.\n",
      "\n",
      "Increase the number of iterations (max_iter) or scale the data as shown in:\n",
      "    https://scikit-learn.org/stable/modules/preprocessing.html\n",
      "Please also refer to the documentation for alternative solver options:\n",
      "    https://scikit-learn.org/stable/modules/linear_model.html#logistic-regression\n",
      "  n_iter_i = _check_optimize_result(\n",
      "c:\\Users\\nguyn\\AppData\\Local\\Programs\\Python\\Python312\\Lib\\site-packages\\sklearn\\linear_model\\_logistic.py:460: ConvergenceWarning: lbfgs failed to converge (status=1):\n",
      "STOP: TOTAL NO. of ITERATIONS REACHED LIMIT.\n",
      "\n",
      "Increase the number of iterations (max_iter) or scale the data as shown in:\n",
      "    https://scikit-learn.org/stable/modules/preprocessing.html\n",
      "Please also refer to the documentation for alternative solver options:\n",
      "    https://scikit-learn.org/stable/modules/linear_model.html#logistic-regression\n",
      "  n_iter_i = _check_optimize_result(\n",
      "c:\\Users\\nguyn\\AppData\\Local\\Programs\\Python\\Python312\\Lib\\site-packages\\sklearn\\linear_model\\_logistic.py:460: ConvergenceWarning: lbfgs failed to converge (status=1):\n",
      "STOP: TOTAL NO. of ITERATIONS REACHED LIMIT.\n",
      "\n",
      "Increase the number of iterations (max_iter) or scale the data as shown in:\n",
      "    https://scikit-learn.org/stable/modules/preprocessing.html\n",
      "Please also refer to the documentation for alternative solver options:\n",
      "    https://scikit-learn.org/stable/modules/linear_model.html#logistic-regression\n",
      "  n_iter_i = _check_optimize_result(\n",
      "c:\\Users\\nguyn\\AppData\\Local\\Programs\\Python\\Python312\\Lib\\site-packages\\sklearn\\linear_model\\_logistic.py:460: ConvergenceWarning: lbfgs failed to converge (status=1):\n",
      "STOP: TOTAL NO. of ITERATIONS REACHED LIMIT.\n",
      "\n",
      "Increase the number of iterations (max_iter) or scale the data as shown in:\n",
      "    https://scikit-learn.org/stable/modules/preprocessing.html\n",
      "Please also refer to the documentation for alternative solver options:\n",
      "    https://scikit-learn.org/stable/modules/linear_model.html#logistic-regression\n",
      "  n_iter_i = _check_optimize_result(\n",
      "c:\\Users\\nguyn\\AppData\\Local\\Programs\\Python\\Python312\\Lib\\site-packages\\sklearn\\linear_model\\_logistic.py:460: ConvergenceWarning: lbfgs failed to converge (status=1):\n",
      "STOP: TOTAL NO. of ITERATIONS REACHED LIMIT.\n",
      "\n",
      "Increase the number of iterations (max_iter) or scale the data as shown in:\n",
      "    https://scikit-learn.org/stable/modules/preprocessing.html\n",
      "Please also refer to the documentation for alternative solver options:\n",
      "    https://scikit-learn.org/stable/modules/linear_model.html#logistic-regression\n",
      "  n_iter_i = _check_optimize_result(\n",
      "c:\\Users\\nguyn\\AppData\\Local\\Programs\\Python\\Python312\\Lib\\site-packages\\sklearn\\linear_model\\_logistic.py:460: ConvergenceWarning: lbfgs failed to converge (status=1):\n",
      "STOP: TOTAL NO. of ITERATIONS REACHED LIMIT.\n",
      "\n",
      "Increase the number of iterations (max_iter) or scale the data as shown in:\n",
      "    https://scikit-learn.org/stable/modules/preprocessing.html\n",
      "Please also refer to the documentation for alternative solver options:\n",
      "    https://scikit-learn.org/stable/modules/linear_model.html#logistic-regression\n",
      "  n_iter_i = _check_optimize_result(\n",
      "c:\\Users\\nguyn\\AppData\\Local\\Programs\\Python\\Python312\\Lib\\site-packages\\sklearn\\linear_model\\_logistic.py:460: ConvergenceWarning: lbfgs failed to converge (status=1):\n",
      "STOP: TOTAL NO. of ITERATIONS REACHED LIMIT.\n",
      "\n",
      "Increase the number of iterations (max_iter) or scale the data as shown in:\n",
      "    https://scikit-learn.org/stable/modules/preprocessing.html\n",
      "Please also refer to the documentation for alternative solver options:\n",
      "    https://scikit-learn.org/stable/modules/linear_model.html#logistic-regression\n",
      "  n_iter_i = _check_optimize_result(\n",
      "c:\\Users\\nguyn\\AppData\\Local\\Programs\\Python\\Python312\\Lib\\site-packages\\sklearn\\linear_model\\_logistic.py:460: ConvergenceWarning: lbfgs failed to converge (status=1):\n",
      "STOP: TOTAL NO. of ITERATIONS REACHED LIMIT.\n",
      "\n",
      "Increase the number of iterations (max_iter) or scale the data as shown in:\n",
      "    https://scikit-learn.org/stable/modules/preprocessing.html\n",
      "Please also refer to the documentation for alternative solver options:\n",
      "    https://scikit-learn.org/stable/modules/linear_model.html#logistic-regression\n",
      "  n_iter_i = _check_optimize_result(\n",
      "c:\\Users\\nguyn\\AppData\\Local\\Programs\\Python\\Python312\\Lib\\site-packages\\sklearn\\linear_model\\_logistic.py:460: ConvergenceWarning: lbfgs failed to converge (status=1):\n",
      "STOP: TOTAL NO. of ITERATIONS REACHED LIMIT.\n",
      "\n",
      "Increase the number of iterations (max_iter) or scale the data as shown in:\n",
      "    https://scikit-learn.org/stable/modules/preprocessing.html\n",
      "Please also refer to the documentation for alternative solver options:\n",
      "    https://scikit-learn.org/stable/modules/linear_model.html#logistic-regression\n",
      "  n_iter_i = _check_optimize_result(\n",
      "c:\\Users\\nguyn\\AppData\\Local\\Programs\\Python\\Python312\\Lib\\site-packages\\sklearn\\linear_model\\_logistic.py:460: ConvergenceWarning: lbfgs failed to converge (status=1):\n",
      "STOP: TOTAL NO. of ITERATIONS REACHED LIMIT.\n",
      "\n",
      "Increase the number of iterations (max_iter) or scale the data as shown in:\n",
      "    https://scikit-learn.org/stable/modules/preprocessing.html\n",
      "Please also refer to the documentation for alternative solver options:\n",
      "    https://scikit-learn.org/stable/modules/linear_model.html#logistic-regression\n",
      "  n_iter_i = _check_optimize_result(\n",
      "c:\\Users\\nguyn\\AppData\\Local\\Programs\\Python\\Python312\\Lib\\site-packages\\sklearn\\linear_model\\_logistic.py:460: ConvergenceWarning: lbfgs failed to converge (status=1):\n",
      "STOP: TOTAL NO. of ITERATIONS REACHED LIMIT.\n",
      "\n",
      "Increase the number of iterations (max_iter) or scale the data as shown in:\n",
      "    https://scikit-learn.org/stable/modules/preprocessing.html\n",
      "Please also refer to the documentation for alternative solver options:\n",
      "    https://scikit-learn.org/stable/modules/linear_model.html#logistic-regression\n",
      "  n_iter_i = _check_optimize_result(\n",
      "c:\\Users\\nguyn\\AppData\\Local\\Programs\\Python\\Python312\\Lib\\site-packages\\sklearn\\linear_model\\_logistic.py:460: ConvergenceWarning: lbfgs failed to converge (status=1):\n",
      "STOP: TOTAL NO. of ITERATIONS REACHED LIMIT.\n",
      "\n",
      "Increase the number of iterations (max_iter) or scale the data as shown in:\n",
      "    https://scikit-learn.org/stable/modules/preprocessing.html\n",
      "Please also refer to the documentation for alternative solver options:\n",
      "    https://scikit-learn.org/stable/modules/linear_model.html#logistic-regression\n",
      "  n_iter_i = _check_optimize_result(\n"
     ]
    },
    {
     "name": "stdout",
     "output_type": "stream",
     "text": [
      "{'radius': 0.826530612244898, 'texture': 0.826530612244898, 'perimeter': 0.826530612244898, 'area': 0.826530612244898, 'smoothness': 0.826530612244898, 'compactness': 0.826530612244898, 'concavity': 0.826530612244898, 'concave_points': 0.826530612244898, 'symmetry': 0.826530612244898, 'fractal_dimension': 0.826530612244898, 'radius_texture': 0.8163265306122449, 'radius_perimeter': 0.9081632653061225, 'radius_area': 0.9183673469387755, 'radius_smoothness': 0.8061224489795918, 'radius_compactness': 0.7857142857142857, 'radius_concavity': 0.8775510204081632, 'radius_concave_points': 0.8367346938775511, 'radius_symmetry': 0.7653061224489796, 'radius_fractal_dimension': 0.7653061224489796, 'texture_perimeter': 0.8163265306122449, 'texture_area': 0.8469387755102041, 'texture_smoothness': 0.826530612244898, 'texture_compactness': 0.7959183673469388, 'texture_concavity': 0.826530612244898, 'texture_concave_points': 0.7959183673469388, 'texture_symmetry': 0.7857142857142857, 'texture_fractal_dimension': 0.8061224489795918, 'perimeter_area': 0.9183673469387755, 'perimeter_smoothness': 0.8061224489795918, 'perimeter_compactness': 0.8163265306122449, 'perimeter_concavity': 0.8673469387755102, 'perimeter_concave_points': 0.8469387755102041, 'perimeter_symmetry': 0.8061224489795918, 'perimeter_fractal_dimension': 0.8061224489795918, 'area_smoothness': 0.8367346938775511, 'area_compactness': 0.7959183673469388, 'area_concavity': 0.8571428571428571, 'area_concave_points': 0.8571428571428571, 'area_symmetry': 0.7959183673469388, 'area_fractal_dimension': 0.8163265306122449, 'smoothness_compactness': 0.826530612244898, 'smoothness_concavity': 0.7959183673469388, 'smoothness_concave_points': 0.8061224489795918, 'smoothness_symmetry': 0.7653061224489796, 'smoothness_fractal_dimension': 0.8163265306122449, 'compactness_concavity': 0.826530612244898, 'compactness_concave_points': 0.8367346938775511, 'compactness_symmetry': 0.7959183673469388, 'compactness_fractal_dimension': 0.7959183673469388, 'concavity_concave_points': 0.9285714285714286, 'concavity_symmetry': 0.826530612244898, 'concavity_fractal_dimension': 0.826530612244898, 'concave_points_symmetry': 0.8061224489795918, 'concave_points_fractal_dimension': 0.8061224489795918, 'symmetry_fractal_dimension': 0.7959183673469388, 'radius_texture_perimeter': 0.8877551020408163, 'radius_texture_area': 0.9081632653061225, 'radius_texture_smoothness': 0.9081632653061225, 'radius_texture_compactness': 0.9081632653061225, 'radius_texture_concavity': 0.9693877551020408, 'radius_texture_concave_points': 0.9693877551020408, 'radius_texture_symmetry': 0.7857142857142857, 'radius_texture_fractal_dimension': 0.8061224489795918, 'radius_perimeter_area': 0.8571428571428571, 'radius_perimeter_smoothness': 0.8571428571428571, 'radius_perimeter_compactness': 0.8775510204081632, 'radius_perimeter_concavity': 0.9387755102040817, 'radius_perimeter_concave_points': 0.9183673469387755, 'radius_perimeter_symmetry': 0.8571428571428571, 'radius_perimeter_fractal_dimension': 0.8673469387755102, 'radius_area_smoothness': 0.8979591836734694, 'radius_area_compactness': 0.9081632653061225, 'radius_area_concavity': 0.9387755102040817, 'radius_area_concave_points': 0.9081632653061225, 'radius_area_symmetry': 0.8571428571428571, 'radius_area_fractal_dimension': 0.9081632653061225, 'radius_smoothness_compactness': 0.8979591836734694, 'radius_smoothness_concavity': 0.9285714285714286, 'radius_smoothness_concave_points': 0.9183673469387755, 'radius_smoothness_symmetry': 0.8571428571428571, 'radius_smoothness_fractal_dimension': 0.8673469387755102, 'radius_compactness_concavity': 0.9387755102040817, 'radius_compactness_concave_points': 0.8979591836734694, 'radius_compactness_symmetry': 0.9081632653061225, 'radius_compactness_fractal_dimension': 0.9081632653061225, 'radius_concavity_concave_points': 0.9489795918367347, 'radius_concavity_symmetry': 0.9489795918367347, 'radius_concavity_fractal_dimension': 0.9591836734693877, 'radius_concave_points_symmetry': 0.9285714285714286, 'radius_concave_points_fractal_dimension': 0.9387755102040817, 'radius_symmetry_fractal_dimension': 0.8469387755102041, 'texture_perimeter_area': 0.8877551020408163, 'texture_perimeter_smoothness': 0.8775510204081632, 'texture_perimeter_compactness': 0.8775510204081632, 'texture_perimeter_concavity': 0.9489795918367347, 'texture_perimeter_concave_points': 0.9591836734693877, 'texture_perimeter_symmetry': 0.7857142857142857, 'texture_perimeter_fractal_dimension': 0.7551020408163265, 'texture_area_smoothness': 0.9183673469387755, 'texture_area_compactness': 0.9081632653061225, 'texture_area_concavity': 0.9693877551020408, 'texture_area_concave_points': 0.9489795918367347, 'texture_area_symmetry': 0.8673469387755102, 'texture_area_fractal_dimension': 0.8061224489795918, 'texture_smoothness_compactness': 0.8571428571428571, 'texture_smoothness_concavity': 0.9489795918367347, 'texture_smoothness_concave_points': 0.7959183673469388, 'texture_smoothness_symmetry': 0.826530612244898, 'texture_smoothness_fractal_dimension': 0.8469387755102041, 'texture_compactness_concavity': 0.8775510204081632, 'texture_compactness_concave_points': 0.8673469387755102, 'texture_compactness_symmetry': 0.8367346938775511, 'texture_compactness_fractal_dimension': 0.826530612244898, 'texture_concavity_concave_points': 0.9183673469387755, 'texture_concavity_symmetry': 0.8571428571428571, 'texture_concavity_fractal_dimension': 0.8367346938775511, 'texture_concave_points_symmetry': 0.7857142857142857, 'texture_concave_points_fractal_dimension': 0.7959183673469388, 'texture_symmetry_fractal_dimension': 0.826530612244898, 'perimeter_area_smoothness': 0.8979591836734694, 'perimeter_area_compactness': 0.8775510204081632, 'perimeter_area_concavity': 0.9387755102040817, 'perimeter_area_concave_points': 0.9183673469387755, 'perimeter_area_symmetry': 0.8673469387755102, 'perimeter_area_fractal_dimension': 0.8877551020408163, 'perimeter_smoothness_compactness': 0.8775510204081632, 'perimeter_smoothness_concavity': 0.9489795918367347, 'perimeter_smoothness_concave_points': 0.9081632653061225, 'perimeter_smoothness_symmetry': 0.8469387755102041, 'perimeter_smoothness_fractal_dimension': 0.8367346938775511, 'perimeter_compactness_concavity': 0.9489795918367347, 'perimeter_compactness_concave_points': 0.9081632653061225, 'perimeter_compactness_symmetry': 0.8571428571428571, 'perimeter_compactness_fractal_dimension': 0.8469387755102041, 'perimeter_concavity_concave_points': 0.9591836734693877, 'perimeter_concavity_symmetry': 0.9489795918367347, 'perimeter_concavity_fractal_dimension': 0.9183673469387755, 'perimeter_concave_points_symmetry': 0.9285714285714286, 'perimeter_concave_points_fractal_dimension': 0.9387755102040817, 'perimeter_symmetry_fractal_dimension': 0.826530612244898, 'area_smoothness_compactness': 0.8979591836734694, 'area_smoothness_concavity': 0.9387755102040817, 'area_smoothness_concave_points': 0.9183673469387755, 'area_smoothness_symmetry': 0.8775510204081632, 'area_smoothness_fractal_dimension': 0.8979591836734694, 'area_compactness_concavity': 0.9387755102040817, 'area_compactness_concave_points': 0.8979591836734694, 'area_compactness_symmetry': 0.9081632653061225, 'area_compactness_fractal_dimension': 0.8775510204081632, 'area_concavity_concave_points': 0.9591836734693877, 'area_concavity_symmetry': 0.9591836734693877, 'area_concavity_fractal_dimension': 0.9591836734693877, 'area_concave_points_symmetry': 0.9285714285714286, 'area_concave_points_fractal_dimension': 0.9489795918367347, 'area_symmetry_fractal_dimension': 0.8571428571428571, 'smoothness_compactness_concavity': 0.9489795918367347, 'smoothness_compactness_concave_points': 0.8877551020408163, 'smoothness_compactness_symmetry': 0.8367346938775511, 'smoothness_compactness_fractal_dimension': 0.8775510204081632, 'smoothness_concavity_concave_points': 0.8979591836734694, 'smoothness_concavity_symmetry': 0.9489795918367347, 'smoothness_concavity_fractal_dimension': 0.9285714285714286, 'smoothness_concave_points_symmetry': 0.9183673469387755, 'smoothness_concave_points_fractal_dimension': 0.8775510204081632, 'smoothness_symmetry_fractal_dimension': 0.8163265306122449, 'compactness_concavity_concave_points': 0.9081632653061225, 'compactness_concavity_symmetry': 0.9285714285714286, 'compactness_concavity_fractal_dimension': 0.826530612244898, 'compactness_concave_points_symmetry': 0.9081632653061225, 'compactness_concave_points_fractal_dimension': 0.826530612244898, 'compactness_symmetry_fractal_dimension': 0.7959183673469388, 'concavity_concave_points_symmetry': 0.9183673469387755, 'concavity_concave_points_fractal_dimension': 0.8163265306122449, 'concavity_symmetry_fractal_dimension': 0.826530612244898, 'concave_points_symmetry_fractal_dimension': 0.8469387755102041, 'radius_texture_perimeter_area': 0.8163265306122449, 'radius_texture_perimeter_smoothness': 0.826530612244898, 'radius_texture_perimeter_compactness': 0.826530612244898, 'radius_texture_perimeter_concavity': 0.8469387755102041, 'radius_texture_perimeter_concave_points': 0.8367346938775511, 'radius_texture_perimeter_symmetry': 0.8163265306122449, 'radius_texture_perimeter_fractal_dimension': 0.7959183673469388, 'radius_texture_area_smoothness': 0.7959183673469388, 'radius_texture_area_compactness': 0.8163265306122449, 'radius_texture_area_concavity': 0.8061224489795918, 'radius_texture_area_concave_points': 0.8061224489795918, 'radius_texture_area_symmetry': 0.7857142857142857, 'radius_texture_area_fractal_dimension': 0.7857142857142857, 'radius_texture_smoothness_compactness': 0.8163265306122449, 'radius_texture_smoothness_concavity': 0.8571428571428571, 'radius_texture_smoothness_concave_points': 0.826530612244898, 'radius_texture_smoothness_symmetry': 0.7959183673469388, 'radius_texture_smoothness_fractal_dimension': 0.7755102040816326, 'radius_texture_compactness_concavity': 0.8469387755102041, 'radius_texture_compactness_concave_points': 0.8469387755102041, 'radius_texture_compactness_symmetry': 0.826530612244898, 'radius_texture_compactness_fractal_dimension': 0.8061224489795918, 'radius_texture_concavity_concave_points': 0.8367346938775511, 'radius_texture_concavity_symmetry': 0.8367346938775511, 'radius_texture_concavity_fractal_dimension': 0.8367346938775511, 'radius_texture_concave_points_symmetry': 0.8061224489795918, 'radius_texture_concave_points_fractal_dimension': 0.7959183673469388, 'radius_texture_symmetry_fractal_dimension': 0.7857142857142857, 'radius_perimeter_area_smoothness': 0.8571428571428571, 'radius_perimeter_area_compactness': 0.7959183673469388, 'radius_perimeter_area_concavity': 0.8877551020408163, 'radius_perimeter_area_concave_points': 0.826530612244898, 'radius_perimeter_area_symmetry': 0.7755102040816326, 'radius_perimeter_area_fractal_dimension': 0.7857142857142857, 'radius_perimeter_smoothness_compactness': 0.7959183673469388, 'radius_perimeter_smoothness_concavity': 0.8571428571428571, 'radius_perimeter_smoothness_concave_points': 0.8061224489795918, 'radius_perimeter_smoothness_symmetry': 0.7857142857142857, 'radius_perimeter_smoothness_fractal_dimension': 0.7857142857142857, 'radius_perimeter_compactness_concavity': 0.8163265306122449, 'radius_perimeter_compactness_concave_points': 0.7959183673469388, 'radius_perimeter_compactness_symmetry': 0.8061224489795918, 'radius_perimeter_compactness_fractal_dimension': 0.7755102040816326, 'radius_perimeter_concavity_concave_points': 0.8673469387755102, 'radius_perimeter_concavity_symmetry': 0.7959183673469388, 'radius_perimeter_concavity_fractal_dimension': 0.826530612244898, 'radius_perimeter_concave_points_symmetry': 0.7755102040816326, 'radius_perimeter_concave_points_fractal_dimension': 0.7857142857142857, 'radius_perimeter_symmetry_fractal_dimension': 0.7653061224489796, 'radius_area_smoothness_compactness': 0.8061224489795918, 'radius_area_smoothness_concavity': 0.8775510204081632, 'radius_area_smoothness_concave_points': 0.8061224489795918, 'radius_area_smoothness_symmetry': 0.7857142857142857, 'radius_area_smoothness_fractal_dimension': 0.7857142857142857, 'radius_area_compactness_concavity': 0.7857142857142857, 'radius_area_compactness_concave_points': 0.8061224489795918, 'radius_area_compactness_symmetry': 0.7755102040816326, 'radius_area_compactness_fractal_dimension': 0.7755102040816326, 'radius_area_concavity_concave_points': 0.9285714285714286, 'radius_area_concavity_symmetry': 0.8163265306122449, 'radius_area_concavity_fractal_dimension': 0.826530612244898, 'radius_area_concave_points_symmetry': 0.7959183673469388, 'radius_area_concave_points_fractal_dimension': 0.7755102040816326, 'radius_area_symmetry_fractal_dimension': 0.7448979591836735, 'radius_smoothness_compactness_concavity': 0.7857142857142857, 'radius_smoothness_compactness_concave_points': 0.7857142857142857, 'radius_smoothness_compactness_symmetry': 0.7857142857142857, 'radius_smoothness_compactness_fractal_dimension': 0.7857142857142857, 'radius_smoothness_concavity_concave_points': 0.8061224489795918, 'radius_smoothness_concavity_symmetry': 0.7959183673469388, 'radius_smoothness_concavity_fractal_dimension': 0.7755102040816326, 'radius_smoothness_concave_points_symmetry': 0.8061224489795918, 'radius_smoothness_concave_points_fractal_dimension': 0.7959183673469388, 'radius_smoothness_symmetry_fractal_dimension': 0.7857142857142857, 'radius_compactness_concavity_concave_points': 0.7857142857142857, 'radius_compactness_concavity_symmetry': 0.7755102040816326, 'radius_compactness_concavity_fractal_dimension': 0.7857142857142857, 'radius_compactness_concave_points_symmetry': 0.7959183673469388, 'radius_compactness_concave_points_fractal_dimension': 0.8061224489795918, 'radius_compactness_symmetry_fractal_dimension': 0.7857142857142857, 'radius_concavity_concave_points_symmetry': 0.7959183673469388, 'radius_concavity_concave_points_fractal_dimension': 0.8163265306122449, 'radius_concavity_symmetry_fractal_dimension': 0.7857142857142857, 'radius_concave_points_symmetry_fractal_dimension': 0.7755102040816326, 'texture_perimeter_area_smoothness': 0.8571428571428571, 'texture_perimeter_area_compactness': 0.8469387755102041, 'texture_perimeter_area_concavity': 0.8469387755102041, 'texture_perimeter_area_concave_points': 0.8367346938775511, 'texture_perimeter_area_symmetry': 0.8163265306122449, 'texture_perimeter_area_fractal_dimension': 0.8163265306122449, 'texture_perimeter_smoothness_compactness': 0.8469387755102041, 'texture_perimeter_smoothness_concavity': 0.8673469387755102, 'texture_perimeter_smoothness_concave_points': 0.8469387755102041, 'texture_perimeter_smoothness_symmetry': 0.8367346938775511, 'texture_perimeter_smoothness_fractal_dimension': 0.8469387755102041, 'texture_perimeter_compactness_concavity': 0.8775510204081632, 'texture_perimeter_compactness_concave_points': 0.8469387755102041, 'texture_perimeter_compactness_symmetry': 0.8673469387755102, 'texture_perimeter_compactness_fractal_dimension': 0.8367346938775511, 'texture_perimeter_concavity_concave_points': 0.8367346938775511, 'texture_perimeter_concavity_symmetry': 0.8775510204081632, 'texture_perimeter_concavity_fractal_dimension': 0.8469387755102041, 'texture_perimeter_concave_points_symmetry': 0.8469387755102041, 'texture_perimeter_concave_points_fractal_dimension': 0.826530612244898, 'texture_perimeter_symmetry_fractal_dimension': 0.8061224489795918, 'texture_area_smoothness_compactness': 0.8367346938775511, 'texture_area_smoothness_concavity': 0.8673469387755102, 'texture_area_smoothness_concave_points': 0.826530612244898, 'texture_area_smoothness_symmetry': 0.8163265306122449, 'texture_area_smoothness_fractal_dimension': 0.826530612244898, 'texture_area_compactness_concavity': 0.8571428571428571, 'texture_area_compactness_concave_points': 0.8367346938775511, 'texture_area_compactness_symmetry': 0.8469387755102041, 'texture_area_compactness_fractal_dimension': 0.7959183673469388, 'texture_area_concavity_concave_points': 0.8673469387755102, 'texture_area_concavity_symmetry': 0.8571428571428571, 'texture_area_concavity_fractal_dimension': 0.8367346938775511, 'texture_area_concave_points_symmetry': 0.826530612244898, 'texture_area_concave_points_fractal_dimension': 0.8163265306122449, 'texture_area_symmetry_fractal_dimension': 0.7959183673469388, 'texture_smoothness_compactness_concavity': 0.826530612244898, 'texture_smoothness_compactness_concave_points': 0.826530612244898, 'texture_smoothness_compactness_symmetry': 0.8163265306122449, 'texture_smoothness_compactness_fractal_dimension': 0.8163265306122449, 'texture_smoothness_concavity_concave_points': 0.8469387755102041, 'texture_smoothness_concavity_symmetry': 0.8367346938775511, 'texture_smoothness_concavity_fractal_dimension': 0.8061224489795918, 'texture_smoothness_concave_points_symmetry': 0.8061224489795918, 'texture_smoothness_concave_points_fractal_dimension': 0.7959183673469388, 'texture_smoothness_symmetry_fractal_dimension': 0.7755102040816326, 'texture_compactness_concavity_concave_points': 0.826530612244898, 'texture_compactness_concavity_symmetry': 0.8367346938775511, 'texture_compactness_concavity_fractal_dimension': 0.826530612244898, 'texture_compactness_concave_points_symmetry': 0.8469387755102041, 'texture_compactness_concave_points_fractal_dimension': 0.8163265306122449, 'texture_compactness_symmetry_fractal_dimension': 0.8163265306122449, 'texture_concavity_concave_points_symmetry': 0.8367346938775511, 'texture_concavity_concave_points_fractal_dimension': 0.8163265306122449, 'texture_concavity_symmetry_fractal_dimension': 0.8061224489795918, 'texture_concave_points_symmetry_fractal_dimension': 0.7755102040816326, 'perimeter_area_smoothness_compactness': 0.826530612244898, 'perimeter_area_smoothness_concavity': 0.8367346938775511, 'perimeter_area_smoothness_concave_points': 0.8061224489795918, 'perimeter_area_smoothness_symmetry': 0.8061224489795918, 'perimeter_area_smoothness_fractal_dimension': 0.7959183673469388, 'perimeter_area_compactness_concavity': 0.8469387755102041, 'perimeter_area_compactness_concave_points': 0.826530612244898, 'perimeter_area_compactness_symmetry': 0.8061224489795918, 'perimeter_area_compactness_fractal_dimension': 0.7755102040816326, 'perimeter_area_concavity_concave_points': 0.9183673469387755, 'perimeter_area_concavity_symmetry': 0.8163265306122449, 'perimeter_area_concavity_fractal_dimension': 0.8061224489795918, 'perimeter_area_concave_points_symmetry': 0.8061224489795918, 'perimeter_area_concave_points_fractal_dimension': 0.7959183673469388, 'perimeter_area_symmetry_fractal_dimension': 0.7755102040816326, 'perimeter_smoothness_compactness_concavity': 0.8367346938775511, 'perimeter_smoothness_compactness_concave_points': 0.8061224489795918, 'perimeter_smoothness_compactness_symmetry': 0.8061224489795918, 'perimeter_smoothness_compactness_fractal_dimension': 0.7959183673469388, 'perimeter_smoothness_concavity_concave_points': 0.8163265306122449, 'perimeter_smoothness_concavity_symmetry': 0.8163265306122449, 'perimeter_smoothness_concavity_fractal_dimension': 0.8163265306122449, 'perimeter_smoothness_concave_points_symmetry': 0.7959183673469388, 'perimeter_smoothness_concave_points_fractal_dimension': 0.7959183673469388, 'perimeter_smoothness_symmetry_fractal_dimension': 0.7857142857142857, 'perimeter_compactness_concavity_concave_points': 0.8163265306122449, 'perimeter_compactness_concavity_symmetry': 0.8163265306122449, 'perimeter_compactness_concavity_fractal_dimension': 0.8061224489795918, 'perimeter_compactness_concave_points_symmetry': 0.8061224489795918, 'perimeter_compactness_concave_points_fractal_dimension': 0.7857142857142857, 'perimeter_compactness_symmetry_fractal_dimension': 0.7857142857142857, 'perimeter_concavity_concave_points_symmetry': 0.8061224489795918, 'perimeter_concavity_concave_points_fractal_dimension': 0.826530612244898, 'perimeter_concavity_symmetry_fractal_dimension': 0.8061224489795918, 'perimeter_concave_points_symmetry_fractal_dimension': 0.7755102040816326, 'area_smoothness_compactness_concavity': 0.826530612244898, 'area_smoothness_compactness_concave_points': 0.8163265306122449, 'area_smoothness_compactness_symmetry': 0.8061224489795918, 'area_smoothness_compactness_fractal_dimension': 0.826530612244898, 'area_smoothness_concavity_concave_points': 0.8469387755102041, 'area_smoothness_concavity_symmetry': 0.826530612244898, 'area_smoothness_concavity_fractal_dimension': 0.8367346938775511, 'area_smoothness_concave_points_symmetry': 0.8061224489795918, 'area_smoothness_concave_points_fractal_dimension': 0.7959183673469388, 'area_smoothness_symmetry_fractal_dimension': 0.8061224489795918, 'area_compactness_concavity_concave_points': 0.9183673469387755, 'area_compactness_concavity_symmetry': 0.7857142857142857, 'area_compactness_concavity_fractal_dimension': 0.7755102040816326, 'area_compactness_concave_points_symmetry': 0.7959183673469388, 'area_compactness_concave_points_fractal_dimension': 0.7857142857142857, 'area_compactness_symmetry_fractal_dimension': 0.8061224489795918, 'area_concavity_concave_points_symmetry': 0.8571428571428571, 'area_concavity_concave_points_fractal_dimension': 0.8163265306122449, 'area_concavity_symmetry_fractal_dimension': 0.7959183673469388, 'area_concave_points_symmetry_fractal_dimension': 0.7653061224489796, 'smoothness_compactness_concavity_concave_points': 0.7857142857142857, 'smoothness_compactness_concavity_symmetry': 0.8061224489795918, 'smoothness_compactness_concavity_fractal_dimension': 0.8061224489795918, 'smoothness_compactness_concave_points_symmetry': 0.7755102040816326, 'smoothness_compactness_concave_points_fractal_dimension': 0.8367346938775511, 'smoothness_compactness_symmetry_fractal_dimension': 0.7755102040816326, 'smoothness_concavity_concave_points_symmetry': 0.7857142857142857, 'smoothness_concavity_concave_points_fractal_dimension': 0.8163265306122449, 'smoothness_concavity_symmetry_fractal_dimension': 0.8163265306122449, 'smoothness_concave_points_symmetry_fractal_dimension': 0.7755102040816326, 'compactness_concavity_concave_points_symmetry': 0.7755102040816326, 'compactness_concavity_concave_points_fractal_dimension': 0.8061224489795918, 'compactness_concavity_symmetry_fractal_dimension': 0.7653061224489796, 'compactness_concave_points_symmetry_fractal_dimension': 0.7653061224489796, 'concavity_concave_points_symmetry_fractal_dimension': 0.7755102040816326, 'radius_texture_perimeter_area_smoothness': 0.8775510204081632, 'radius_texture_perimeter_area_compactness': 0.8775510204081632, 'radius_texture_perimeter_area_concavity': 0.9387755102040817, 'radius_texture_perimeter_area_concave_points': 0.7653061224489796, 'radius_texture_perimeter_area_symmetry': 0.8775510204081632, 'radius_texture_perimeter_area_fractal_dimension': 0.7448979591836735, 'radius_texture_perimeter_smoothness_compactness': 0.8571428571428571, 'radius_texture_perimeter_smoothness_concavity': 0.8877551020408163, 'radius_texture_perimeter_smoothness_concave_points': 0.9387755102040817, 'radius_texture_perimeter_smoothness_symmetry': 0.7857142857142857, 'radius_texture_perimeter_smoothness_fractal_dimension': 0.7857142857142857, 'radius_texture_perimeter_compactness_concavity': 0.9183673469387755, 'radius_texture_perimeter_compactness_concave_points': 0.9489795918367347, 'radius_texture_perimeter_compactness_symmetry': 0.8775510204081632, 'radius_texture_perimeter_compactness_fractal_dimension': 0.8571428571428571, 'radius_texture_perimeter_concavity_concave_points': 0.9387755102040817, 'radius_texture_perimeter_concavity_symmetry': 0.8979591836734694, 'radius_texture_perimeter_concavity_fractal_dimension': 0.9285714285714286, 'radius_texture_perimeter_concave_points_symmetry': 0.7857142857142857, 'radius_texture_perimeter_concave_points_fractal_dimension': 0.7653061224489796, 'radius_texture_perimeter_symmetry_fractal_dimension': 0.7755102040816326, 'radius_texture_area_smoothness_compactness': 0.8979591836734694, 'radius_texture_area_smoothness_concavity': 0.9183673469387755, 'radius_texture_area_smoothness_concave_points': 0.9285714285714286, 'radius_texture_area_smoothness_symmetry': 0.8877551020408163, 'radius_texture_area_smoothness_fractal_dimension': 0.7857142857142857, 'radius_texture_area_compactness_concavity': 0.9489795918367347, 'radius_texture_area_compactness_concave_points': 0.9693877551020408, 'radius_texture_area_compactness_symmetry': 0.8979591836734694, 'radius_texture_area_compactness_fractal_dimension': 0.8469387755102041, 'radius_texture_area_concavity_concave_points': 0.9591836734693877, 'radius_texture_area_concavity_symmetry': 0.9387755102040817, 'radius_texture_area_concavity_fractal_dimension': 0.7755102040816326, 'radius_texture_area_concave_points_symmetry': 0.7857142857142857, 'radius_texture_area_concave_points_fractal_dimension': 0.7755102040816326, 'radius_texture_area_symmetry_fractal_dimension': 0.7959183673469388, 'radius_texture_smoothness_compactness_concavity': 0.9081632653061225, 'radius_texture_smoothness_compactness_concave_points': 0.9183673469387755, 'radius_texture_smoothness_compactness_symmetry': 0.8673469387755102, 'radius_texture_smoothness_compactness_fractal_dimension': 0.8571428571428571, 'radius_texture_smoothness_concavity_concave_points': 0.9183673469387755, 'radius_texture_smoothness_concavity_symmetry': 0.9081632653061225, 'radius_texture_smoothness_concavity_fractal_dimension': 0.9489795918367347, 'radius_texture_smoothness_concave_points_symmetry': 0.7755102040816326, 'radius_texture_smoothness_concave_points_fractal_dimension': 0.826530612244898, 'radius_texture_smoothness_symmetry_fractal_dimension': 0.7959183673469388, 'radius_texture_compactness_concavity_concave_points': 0.9489795918367347, 'radius_texture_compactness_concavity_symmetry': 0.9081632653061225, 'radius_texture_compactness_concavity_fractal_dimension': 0.8571428571428571, 'radius_texture_compactness_concave_points_symmetry': 0.9693877551020408, 'radius_texture_compactness_concave_points_fractal_dimension': 0.8367346938775511, 'radius_texture_compactness_symmetry_fractal_dimension': 0.8469387755102041, 'radius_texture_concavity_concave_points_symmetry': 0.9591836734693877, 'radius_texture_concavity_concave_points_fractal_dimension': 0.8163265306122449, 'radius_texture_concavity_symmetry_fractal_dimension': 0.8061224489795918, 'radius_texture_concave_points_symmetry_fractal_dimension': 0.7551020408163265, 'radius_perimeter_area_smoothness_compactness': 0.8877551020408163, 'radius_perimeter_area_smoothness_concavity': 0.9285714285714286, 'radius_perimeter_area_smoothness_concave_points': 0.9285714285714286, 'radius_perimeter_area_smoothness_symmetry': 0.8367346938775511, 'radius_perimeter_area_smoothness_fractal_dimension': 0.8571428571428571, 'radius_perimeter_area_compactness_concavity': 0.8979591836734694, 'radius_perimeter_area_compactness_concave_points': 0.9387755102040817, 'radius_perimeter_area_compactness_symmetry': 0.8571428571428571, 'radius_perimeter_area_compactness_fractal_dimension': 0.8367346938775511, 'radius_perimeter_area_concavity_concave_points': 0.9387755102040817, 'radius_perimeter_area_concavity_symmetry': 0.8979591836734694, 'radius_perimeter_area_concavity_fractal_dimension': 0.8979591836734694, 'radius_perimeter_area_concave_points_symmetry': 0.9081632653061225, 'radius_perimeter_area_concave_points_fractal_dimension': 0.7653061224489796, 'radius_perimeter_area_symmetry_fractal_dimension': 0.7857142857142857, 'radius_perimeter_smoothness_compactness_concavity': 0.9183673469387755, 'radius_perimeter_smoothness_compactness_concave_points': 0.9081632653061225, 'radius_perimeter_smoothness_compactness_symmetry': 0.8367346938775511, 'radius_perimeter_smoothness_compactness_fractal_dimension': 0.8469387755102041, 'radius_perimeter_smoothness_concavity_concave_points': 0.9183673469387755, 'radius_perimeter_smoothness_concavity_symmetry': 0.9081632653061225, 'radius_perimeter_smoothness_concavity_fractal_dimension': 0.9183673469387755, 'radius_perimeter_smoothness_concave_points_symmetry': 0.7857142857142857, 'radius_perimeter_smoothness_concave_points_fractal_dimension': 0.8061224489795918, 'radius_perimeter_smoothness_symmetry_fractal_dimension': 0.7857142857142857, 'radius_perimeter_compactness_concavity_concave_points': 0.9285714285714286, 'radius_perimeter_compactness_concavity_symmetry': 0.8979591836734694, 'radius_perimeter_compactness_concavity_fractal_dimension': 0.9183673469387755, 'radius_perimeter_compactness_concave_points_symmetry': 0.9081632653061225, 'radius_perimeter_compactness_concave_points_fractal_dimension': 0.9387755102040817, 'radius_perimeter_compactness_symmetry_fractal_dimension': 0.8367346938775511, 'radius_perimeter_concavity_concave_points_symmetry': 0.9183673469387755, 'radius_perimeter_concavity_concave_points_fractal_dimension': 0.9387755102040817, 'radius_perimeter_concavity_symmetry_fractal_dimension': 0.9081632653061225, 'radius_perimeter_concave_points_symmetry_fractal_dimension': 0.7755102040816326, 'radius_area_smoothness_compactness_concavity': 0.9285714285714286, 'radius_area_smoothness_compactness_concave_points': 0.9183673469387755, 'radius_area_smoothness_compactness_symmetry': 0.8877551020408163, 'radius_area_smoothness_compactness_fractal_dimension': 0.8877551020408163, 'radius_area_smoothness_concavity_concave_points': 0.9285714285714286, 'radius_area_smoothness_concavity_symmetry': 0.9285714285714286, 'radius_area_smoothness_concavity_fractal_dimension': 0.9285714285714286, 'radius_area_smoothness_concave_points_symmetry': 0.9285714285714286, 'radius_area_smoothness_concave_points_fractal_dimension': 0.9285714285714286, 'radius_area_smoothness_symmetry_fractal_dimension': 0.8367346938775511, 'radius_area_compactness_concavity_concave_points': 0.9489795918367347, 'radius_area_compactness_concavity_symmetry': 0.9081632653061225, 'radius_area_compactness_concavity_fractal_dimension': 0.826530612244898, 'radius_area_compactness_concave_points_symmetry': 0.8979591836734694, 'radius_area_compactness_concave_points_fractal_dimension': 0.8979591836734694, 'radius_area_compactness_symmetry_fractal_dimension': 0.8469387755102041, 'radius_area_concavity_concave_points_symmetry': 0.9081632653061225, 'radius_area_concavity_concave_points_fractal_dimension': 0.9387755102040817, 'radius_area_concavity_symmetry_fractal_dimension': 0.9081632653061225, 'radius_area_concave_points_symmetry_fractal_dimension': 0.7959183673469388, 'radius_smoothness_compactness_concavity_concave_points': 0.9081632653061225, 'radius_smoothness_compactness_concavity_symmetry': 0.9183673469387755, 'radius_smoothness_compactness_concavity_fractal_dimension': 0.9183673469387755, 'radius_smoothness_compactness_concave_points_symmetry': 0.9183673469387755, 'radius_smoothness_compactness_concave_points_fractal_dimension': 0.9183673469387755, 'radius_smoothness_compactness_symmetry_fractal_dimension': 0.8673469387755102, 'radius_smoothness_concavity_concave_points_symmetry': 0.9285714285714286, 'radius_smoothness_concavity_concave_points_fractal_dimension': 0.9081632653061225, 'radius_smoothness_concavity_symmetry_fractal_dimension': 0.9183673469387755, 'radius_smoothness_concave_points_symmetry_fractal_dimension': 0.826530612244898, 'radius_compactness_concavity_concave_points_symmetry': 0.9285714285714286, 'radius_compactness_concavity_concave_points_fractal_dimension': 0.826530612244898, 'radius_compactness_concavity_symmetry_fractal_dimension': 0.9081632653061225, 'radius_compactness_concave_points_symmetry_fractal_dimension': 0.8979591836734694, 'radius_concavity_concave_points_symmetry_fractal_dimension': 0.9285714285714286, 'texture_perimeter_area_smoothness_compactness': 0.8469387755102041, 'texture_perimeter_area_smoothness_concavity': 0.9183673469387755, 'texture_perimeter_area_smoothness_concave_points': 0.9387755102040817, 'texture_perimeter_area_smoothness_symmetry': 0.8673469387755102, 'texture_perimeter_area_smoothness_fractal_dimension': 0.8877551020408163, 'texture_perimeter_area_compactness_concavity': 0.9387755102040817, 'texture_perimeter_area_compactness_concave_points': 0.9693877551020408, 'texture_perimeter_area_compactness_symmetry': 0.8571428571428571, 'texture_perimeter_area_compactness_fractal_dimension': 0.8469387755102041, 'texture_perimeter_area_concavity_concave_points': 0.9795918367346939, 'texture_perimeter_area_concavity_symmetry': 0.9081632653061225, 'texture_perimeter_area_concavity_fractal_dimension': 0.9489795918367347, 'texture_perimeter_area_concave_points_symmetry': 0.7959183673469388, 'texture_perimeter_area_concave_points_fractal_dimension': 0.7653061224489796, 'texture_perimeter_area_symmetry_fractal_dimension': 0.7857142857142857, 'texture_perimeter_smoothness_compactness_concavity': 0.9183673469387755, 'texture_perimeter_smoothness_compactness_concave_points': 0.9591836734693877, 'texture_perimeter_smoothness_compactness_symmetry': 0.8469387755102041, 'texture_perimeter_smoothness_compactness_fractal_dimension': 0.8469387755102041, 'texture_perimeter_smoothness_concavity_concave_points': 0.9489795918367347, 'texture_perimeter_smoothness_concavity_symmetry': 0.8979591836734694, 'texture_perimeter_smoothness_concavity_fractal_dimension': 0.9387755102040817, 'texture_perimeter_smoothness_concave_points_symmetry': 0.7755102040816326, 'texture_perimeter_smoothness_concave_points_fractal_dimension': 0.826530612244898, 'texture_perimeter_smoothness_symmetry_fractal_dimension': 0.8163265306122449, 'texture_perimeter_compactness_concavity_concave_points': 0.9693877551020408, 'texture_perimeter_compactness_concavity_symmetry': 0.9183673469387755, 'texture_perimeter_compactness_concavity_fractal_dimension': 0.9387755102040817, 'texture_perimeter_compactness_concave_points_symmetry': 0.9795918367346939, 'texture_perimeter_compactness_concave_points_fractal_dimension': 0.8469387755102041, 'texture_perimeter_compactness_symmetry_fractal_dimension': 0.8367346938775511, 'texture_perimeter_concavity_concave_points_symmetry': 0.9591836734693877, 'texture_perimeter_concavity_concave_points_fractal_dimension': 0.8163265306122449, 'texture_perimeter_concavity_symmetry_fractal_dimension': 0.9387755102040817, 'texture_perimeter_concave_points_symmetry_fractal_dimension': 0.7755102040816326, 'texture_area_smoothness_compactness_concavity': 0.9285714285714286, 'texture_area_smoothness_compactness_concave_points': 0.9591836734693877, 'texture_area_smoothness_compactness_symmetry': 0.8673469387755102, 'texture_area_smoothness_compactness_fractal_dimension': 0.8775510204081632, 'texture_area_smoothness_concavity_concave_points': 0.9285714285714286, 'texture_area_smoothness_concavity_symmetry': 0.9387755102040817, 'texture_area_smoothness_concavity_fractal_dimension': 0.9489795918367347, 'texture_area_smoothness_concave_points_symmetry': 0.7653061224489796, 'texture_area_smoothness_concave_points_fractal_dimension': 0.826530612244898, 'texture_area_smoothness_symmetry_fractal_dimension': 0.826530612244898, 'texture_area_compactness_concavity_concave_points': 0.9795918367346939, 'texture_area_compactness_concavity_symmetry': 0.9489795918367347, 'texture_area_compactness_concavity_fractal_dimension': 0.8367346938775511, 'texture_area_compactness_concave_points_symmetry': 0.9693877551020408, 'texture_area_compactness_concave_points_fractal_dimension': 0.8469387755102041, 'texture_area_compactness_symmetry_fractal_dimension': 0.8571428571428571, 'texture_area_concavity_concave_points_symmetry': 0.9795918367346939, 'texture_area_concavity_concave_points_fractal_dimension': 0.8163265306122449, 'texture_area_concavity_symmetry_fractal_dimension': 0.9387755102040817, 'texture_area_concave_points_symmetry_fractal_dimension': 0.7959183673469388, 'texture_smoothness_compactness_concavity_concave_points': 0.8061224489795918, 'texture_smoothness_compactness_concavity_symmetry': 0.9489795918367347, 'texture_smoothness_compactness_concavity_fractal_dimension': 0.8571428571428571, 'texture_smoothness_compactness_concave_points_symmetry': 0.8571428571428571, 'texture_smoothness_compactness_concave_points_fractal_dimension': 0.8979591836734694, 'texture_smoothness_compactness_symmetry_fractal_dimension': 0.8163265306122449, 'texture_smoothness_concavity_concave_points_symmetry': 0.7448979591836735, 'texture_smoothness_concavity_concave_points_fractal_dimension': 0.8061224489795918, 'texture_smoothness_concavity_symmetry_fractal_dimension': 0.7448979591836735, 'texture_smoothness_concave_points_symmetry_fractal_dimension': 0.8061224489795918, 'texture_compactness_concavity_concave_points_symmetry': 0.9795918367346939, 'texture_compactness_concavity_concave_points_fractal_dimension': 0.8163265306122449, 'texture_compactness_concavity_symmetry_fractal_dimension': 0.7653061224489796, 'texture_compactness_concave_points_symmetry_fractal_dimension': 0.7653061224489796, 'texture_concavity_concave_points_symmetry_fractal_dimension': 0.7755102040816326, 'perimeter_area_smoothness_compactness_concavity': 0.9387755102040817, 'perimeter_area_smoothness_compactness_concave_points': 0.9285714285714286, 'perimeter_area_smoothness_compactness_symmetry': 0.8571428571428571, 'perimeter_area_smoothness_compactness_fractal_dimension': 0.8571428571428571, 'perimeter_area_smoothness_concavity_concave_points': 0.8979591836734694, 'perimeter_area_smoothness_concavity_symmetry': 0.9183673469387755, 'perimeter_area_smoothness_concavity_fractal_dimension': 0.9183673469387755, 'perimeter_area_smoothness_concave_points_symmetry': 0.9183673469387755, 'perimeter_area_smoothness_concave_points_fractal_dimension': 0.9285714285714286, 'perimeter_area_smoothness_symmetry_fractal_dimension': 0.8469387755102041, 'perimeter_area_compactness_concavity_concave_points': 0.9591836734693877, 'perimeter_area_compactness_concavity_symmetry': 0.8877551020408163, 'perimeter_area_compactness_concavity_fractal_dimension': 0.9081632653061225, 'perimeter_area_compactness_concave_points_symmetry': 0.9285714285714286, 'perimeter_area_compactness_concave_points_fractal_dimension': 0.9693877551020408, 'perimeter_area_compactness_symmetry_fractal_dimension': 0.8367346938775511, 'perimeter_area_concavity_concave_points_symmetry': 0.9285714285714286, 'perimeter_area_concavity_concave_points_fractal_dimension': 0.9489795918367347, 'perimeter_area_concavity_symmetry_fractal_dimension': 0.8979591836734694, 'perimeter_area_concave_points_symmetry_fractal_dimension': 0.7959183673469388, 'perimeter_smoothness_compactness_concavity_concave_points': 0.9183673469387755, 'perimeter_smoothness_compactness_concavity_symmetry': 0.9081632653061225, 'perimeter_smoothness_compactness_concavity_fractal_dimension': 0.9081632653061225, 'perimeter_smoothness_compactness_concave_points_symmetry': 0.9285714285714286, 'perimeter_smoothness_compactness_concave_points_fractal_dimension': 0.9489795918367347, 'perimeter_smoothness_compactness_symmetry_fractal_dimension': 0.8367346938775511, 'perimeter_smoothness_concavity_concave_points_symmetry': 0.9081632653061225, 'perimeter_smoothness_concavity_concave_points_fractal_dimension': 0.9183673469387755, 'perimeter_smoothness_concavity_symmetry_fractal_dimension': 0.9183673469387755, 'perimeter_smoothness_concave_points_symmetry_fractal_dimension': 0.8367346938775511, 'perimeter_compactness_concavity_concave_points_symmetry': 0.9591836734693877, 'perimeter_compactness_concavity_concave_points_fractal_dimension': 0.9693877551020408, 'perimeter_compactness_concavity_symmetry_fractal_dimension': 0.8775510204081632, 'perimeter_compactness_concave_points_symmetry_fractal_dimension': 0.9591836734693877, 'perimeter_concavity_concave_points_symmetry_fractal_dimension': 0.9591836734693877, 'area_smoothness_compactness_concavity_concave_points': 0.9285714285714286, 'area_smoothness_compactness_concavity_symmetry': 0.9387755102040817, 'area_smoothness_compactness_concavity_fractal_dimension': 0.9183673469387755, 'area_smoothness_compactness_concave_points_symmetry': 0.9081632653061225, 'area_smoothness_compactness_concave_points_fractal_dimension': 0.9081632653061225, 'area_smoothness_compactness_symmetry_fractal_dimension': 0.8775510204081632, 'area_smoothness_concavity_concave_points_symmetry': 0.9387755102040817, 'area_smoothness_concavity_concave_points_fractal_dimension': 0.9183673469387755, 'area_smoothness_concavity_symmetry_fractal_dimension': 0.9285714285714286, 'area_smoothness_concave_points_symmetry_fractal_dimension': 0.9183673469387755, 'area_compactness_concavity_concave_points_symmetry': 0.9285714285714286, 'area_compactness_concavity_concave_points_fractal_dimension': 0.8367346938775511, 'area_compactness_concavity_symmetry_fractal_dimension': 0.9285714285714286, 'area_compactness_concave_points_symmetry_fractal_dimension': 0.9183673469387755, 'area_concavity_concave_points_symmetry_fractal_dimension': 0.9387755102040817, 'smoothness_compactness_concavity_concave_points_symmetry': 0.9285714285714286, 'smoothness_compactness_concavity_concave_points_fractal_dimension': 0.8163265306122449, 'smoothness_compactness_concavity_symmetry_fractal_dimension': 0.8163265306122449, 'smoothness_compactness_concave_points_symmetry_fractal_dimension': 0.8571428571428571, 'smoothness_concavity_concave_points_symmetry_fractal_dimension': 0.9387755102040817, 'compactness_concavity_concave_points_symmetry_fractal_dimension': 0.7857142857142857, 'radius_texture_perimeter_area_smoothness_compactness': 0.826530612244898, 'radius_texture_perimeter_area_smoothness_concavity': 0.8979591836734694, 'radius_texture_perimeter_area_smoothness_concave_points': 0.8469387755102041, 'radius_texture_perimeter_area_smoothness_symmetry': 0.7959183673469388, 'radius_texture_perimeter_area_smoothness_fractal_dimension': 0.7857142857142857, 'radius_texture_perimeter_area_compactness_concavity': 0.9183673469387755, 'radius_texture_perimeter_area_compactness_concave_points': 0.8979591836734694, 'radius_texture_perimeter_area_compactness_symmetry': 0.8673469387755102, 'radius_texture_perimeter_area_compactness_fractal_dimension': 0.8571428571428571, 'radius_texture_perimeter_area_concavity_concave_points': 0.8979591836734694, 'radius_texture_perimeter_area_concavity_symmetry': 0.9081632653061225, 'radius_texture_perimeter_area_concavity_fractal_dimension': 0.7857142857142857, 'radius_texture_perimeter_area_concave_points_symmetry': 0.7551020408163265, 'radius_texture_perimeter_area_concave_points_fractal_dimension': 0.7653061224489796, 'radius_texture_perimeter_area_symmetry_fractal_dimension': 0.7551020408163265, 'radius_texture_perimeter_smoothness_compactness_concavity': 0.8775510204081632, 'radius_texture_perimeter_smoothness_compactness_concave_points': 0.8673469387755102, 'radius_texture_perimeter_smoothness_compactness_symmetry': 0.8673469387755102, 'radius_texture_perimeter_smoothness_compactness_fractal_dimension': 0.8163265306122449, 'radius_texture_perimeter_smoothness_concavity_concave_points': 0.8673469387755102, 'radius_texture_perimeter_smoothness_concavity_symmetry': 0.8571428571428571, 'radius_texture_perimeter_smoothness_concavity_fractal_dimension': 0.8775510204081632, 'radius_texture_perimeter_smoothness_concave_points_symmetry': 0.7959183673469388, 'radius_texture_perimeter_smoothness_concave_points_fractal_dimension': 0.8163265306122449, 'radius_texture_perimeter_smoothness_symmetry_fractal_dimension': 0.7653061224489796, 'radius_texture_perimeter_compactness_concavity_concave_points': 0.9183673469387755, 'radius_texture_perimeter_compactness_concavity_symmetry': 0.9081632653061225, 'radius_texture_perimeter_compactness_concavity_fractal_dimension': 0.8673469387755102, 'radius_texture_perimeter_compactness_concave_points_symmetry': 0.8979591836734694, 'radius_texture_perimeter_compactness_concave_points_fractal_dimension': 0.8469387755102041, 'radius_texture_perimeter_compactness_symmetry_fractal_dimension': 0.826530612244898, 'radius_texture_perimeter_concavity_concave_points_symmetry': 0.8571428571428571, 'radius_texture_perimeter_concavity_concave_points_fractal_dimension': 0.8163265306122449, 'radius_texture_perimeter_concavity_symmetry_fractal_dimension': 0.826530612244898, 'radius_texture_perimeter_concave_points_symmetry_fractal_dimension': 0.7551020408163265, 'radius_texture_area_smoothness_compactness_concavity': 0.8775510204081632, 'radius_texture_area_smoothness_compactness_concave_points': 0.8367346938775511, 'radius_texture_area_smoothness_compactness_symmetry': 0.8367346938775511, 'radius_texture_area_smoothness_compactness_fractal_dimension': 0.8469387755102041, 'radius_texture_area_smoothness_concavity_concave_points': 0.9081632653061225, 'radius_texture_area_smoothness_concavity_symmetry': 0.8469387755102041, 'radius_texture_area_smoothness_concavity_fractal_dimension': 0.8469387755102041, 'radius_texture_area_smoothness_concave_points_symmetry': 0.826530612244898, 'radius_texture_area_smoothness_concave_points_fractal_dimension': 0.826530612244898, 'radius_texture_area_smoothness_symmetry_fractal_dimension': 0.7857142857142857, 'radius_texture_area_compactness_concavity_concave_points': 0.9285714285714286, 'radius_texture_area_compactness_concavity_symmetry': 0.9081632653061225, 'radius_texture_area_compactness_concavity_fractal_dimension': 0.8469387755102041, 'radius_texture_area_compactness_concave_points_symmetry': 0.8571428571428571, 'radius_texture_area_compactness_concave_points_fractal_dimension': 0.8163265306122449, 'radius_texture_area_compactness_symmetry_fractal_dimension': 0.7857142857142857, 'radius_texture_area_concavity_concave_points_symmetry': 0.8469387755102041, 'radius_texture_area_concavity_concave_points_fractal_dimension': 0.7857142857142857, 'radius_texture_area_concavity_symmetry_fractal_dimension': 0.8163265306122449, 'radius_texture_area_concave_points_symmetry_fractal_dimension': 0.7653061224489796, 'radius_texture_smoothness_compactness_concavity_concave_points': 0.8367346938775511, 'radius_texture_smoothness_compactness_concavity_symmetry': 0.8775510204081632, 'radius_texture_smoothness_compactness_concavity_fractal_dimension': 0.8367346938775511, 'radius_texture_smoothness_compactness_concave_points_symmetry': 0.8469387755102041, 'radius_texture_smoothness_compactness_concave_points_fractal_dimension': 0.8163265306122449, 'radius_texture_smoothness_compactness_symmetry_fractal_dimension': 0.8061224489795918, 'radius_texture_smoothness_concavity_concave_points_symmetry': 0.8469387755102041, 'radius_texture_smoothness_concavity_concave_points_fractal_dimension': 0.8163265306122449, 'radius_texture_smoothness_concavity_symmetry_fractal_dimension': 0.8367346938775511, 'radius_texture_smoothness_concave_points_symmetry_fractal_dimension': 0.7755102040816326, 'radius_texture_compactness_concavity_concave_points_symmetry': 0.8571428571428571, 'radius_texture_compactness_concavity_concave_points_fractal_dimension': 0.8163265306122449, 'radius_texture_compactness_concavity_symmetry_fractal_dimension': 0.8469387755102041, 'radius_texture_compactness_concave_points_symmetry_fractal_dimension': 0.7857142857142857, 'radius_texture_concavity_concave_points_symmetry_fractal_dimension': 0.7755102040816326, 'radius_perimeter_area_smoothness_compactness_concavity': 0.8877551020408163, 'radius_perimeter_area_smoothness_compactness_concave_points': 0.9183673469387755, 'radius_perimeter_area_smoothness_compactness_symmetry': 0.826530612244898, 'radius_perimeter_area_smoothness_compactness_fractal_dimension': 0.8163265306122449, 'radius_perimeter_area_smoothness_concavity_concave_points': 0.9285714285714286, 'radius_perimeter_area_smoothness_concavity_symmetry': 0.8367346938775511, 'radius_perimeter_area_smoothness_concavity_fractal_dimension': 0.9081632653061225, 'radius_perimeter_area_smoothness_concave_points_symmetry': 0.7755102040816326, 'radius_perimeter_area_smoothness_concave_points_fractal_dimension': 0.8061224489795918, 'radius_perimeter_area_smoothness_symmetry_fractal_dimension': 0.7653061224489796, 'radius_perimeter_area_compactness_concavity_concave_points': 0.9387755102040817, 'radius_perimeter_area_compactness_concavity_symmetry': 0.8673469387755102, 'radius_perimeter_area_compactness_concavity_fractal_dimension': 0.8367346938775511, 'radius_perimeter_area_compactness_concave_points_symmetry': 0.8979591836734694, 'radius_perimeter_area_compactness_concave_points_fractal_dimension': 0.8367346938775511, 'radius_perimeter_area_compactness_symmetry_fractal_dimension': 0.7653061224489796, 'radius_perimeter_area_concavity_concave_points_symmetry': 0.8979591836734694, 'radius_perimeter_area_concavity_concave_points_fractal_dimension': 0.7653061224489796, 'radius_perimeter_area_concavity_symmetry_fractal_dimension': 0.7653061224489796, 'radius_perimeter_area_concave_points_symmetry_fractal_dimension': 0.7755102040816326, 'radius_perimeter_smoothness_compactness_concavity_concave_points': 0.8877551020408163, 'radius_perimeter_smoothness_compactness_concavity_symmetry': 0.8571428571428571, 'radius_perimeter_smoothness_compactness_concavity_fractal_dimension': 0.8163265306122449, 'radius_perimeter_smoothness_compactness_concave_points_symmetry': 0.8469387755102041, 'radius_perimeter_smoothness_compactness_concave_points_fractal_dimension': 0.8367346938775511, 'radius_perimeter_smoothness_compactness_symmetry_fractal_dimension': 0.8163265306122449, 'radius_perimeter_smoothness_concavity_concave_points_symmetry': 0.8061224489795918, 'radius_perimeter_smoothness_concavity_concave_points_fractal_dimension': 0.826530612244898, 'radius_perimeter_smoothness_concavity_symmetry_fractal_dimension': 0.826530612244898, 'radius_perimeter_smoothness_concave_points_symmetry_fractal_dimension': 0.7959183673469388, 'radius_perimeter_compactness_concavity_concave_points_symmetry': 0.8877551020408163, 'radius_perimeter_compactness_concavity_concave_points_fractal_dimension': 0.7959183673469388, 'radius_perimeter_compactness_concavity_symmetry_fractal_dimension': 0.8163265306122449, 'radius_perimeter_compactness_concave_points_symmetry_fractal_dimension': 0.7755102040816326, 'radius_perimeter_concavity_concave_points_symmetry_fractal_dimension': 0.7755102040816326, 'radius_area_smoothness_compactness_concavity_concave_points': 0.9081632653061225, 'radius_area_smoothness_compactness_concavity_symmetry': 0.826530612244898, 'radius_area_smoothness_compactness_concavity_fractal_dimension': 0.8673469387755102, 'radius_area_smoothness_compactness_concave_points_symmetry': 0.8367346938775511, 'radius_area_smoothness_compactness_concave_points_fractal_dimension': 0.8163265306122449, 'radius_area_smoothness_compactness_symmetry_fractal_dimension': 0.826530612244898, 'radius_area_smoothness_concavity_concave_points_symmetry': 0.826530612244898, 'radius_area_smoothness_concavity_concave_points_fractal_dimension': 0.826530612244898, 'radius_area_smoothness_concavity_symmetry_fractal_dimension': 0.826530612244898, 'radius_area_smoothness_concave_points_symmetry_fractal_dimension': 0.8061224489795918, 'radius_area_compactness_concavity_concave_points_symmetry': 0.8979591836734694, 'radius_area_compactness_concavity_concave_points_fractal_dimension': 0.826530612244898, 'radius_area_compactness_concavity_symmetry_fractal_dimension': 0.7653061224489796, 'radius_area_compactness_concave_points_symmetry_fractal_dimension': 0.7653061224489796, 'radius_area_concavity_concave_points_symmetry_fractal_dimension': 0.7959183673469388, 'radius_smoothness_compactness_concavity_concave_points_symmetry': 0.7857142857142857, 'radius_smoothness_compactness_concavity_concave_points_fractal_dimension': 0.826530612244898, 'radius_smoothness_compactness_concavity_symmetry_fractal_dimension': 0.8163265306122449, 'radius_smoothness_compactness_concave_points_symmetry_fractal_dimension': 0.7959183673469388, 'radius_smoothness_concavity_concave_points_symmetry_fractal_dimension': 0.7959183673469388, 'radius_compactness_concavity_concave_points_symmetry_fractal_dimension': 0.7551020408163265, 'texture_perimeter_area_smoothness_compactness_concavity': 0.9183673469387755, 'texture_perimeter_area_smoothness_compactness_concave_points': 0.9081632653061225, 'texture_perimeter_area_smoothness_compactness_symmetry': 0.8367346938775511, 'texture_perimeter_area_smoothness_compactness_fractal_dimension': 0.826530612244898, 'texture_perimeter_area_smoothness_concavity_concave_points': 0.9183673469387755, 'texture_perimeter_area_smoothness_concavity_symmetry': 0.8775510204081632, 'texture_perimeter_area_smoothness_concavity_fractal_dimension': 0.8775510204081632, 'texture_perimeter_area_smoothness_concave_points_symmetry': 0.826530612244898, 'texture_perimeter_area_smoothness_concave_points_fractal_dimension': 0.8367346938775511, 'texture_perimeter_area_smoothness_symmetry_fractal_dimension': 0.7959183673469388, 'texture_perimeter_area_compactness_concavity_concave_points': 0.9285714285714286, 'texture_perimeter_area_compactness_concavity_symmetry': 0.8979591836734694, 'texture_perimeter_area_compactness_concavity_fractal_dimension': 0.8367346938775511, 'texture_perimeter_area_compactness_concave_points_symmetry': 0.9387755102040817, 'texture_perimeter_area_compactness_concave_points_fractal_dimension': 0.826530612244898, 'texture_perimeter_area_compactness_symmetry_fractal_dimension': 0.7959183673469388, 'texture_perimeter_area_concavity_concave_points_symmetry': 0.9591836734693877, 'texture_perimeter_area_concavity_concave_points_fractal_dimension': 0.8163265306122449, 'texture_perimeter_area_concavity_symmetry_fractal_dimension': 0.8571428571428571, 'texture_perimeter_area_concave_points_symmetry_fractal_dimension': 0.7653061224489796, 'texture_perimeter_smoothness_compactness_concavity_concave_points': 0.8775510204081632, 'texture_perimeter_smoothness_compactness_concavity_symmetry': 0.8877551020408163, 'texture_perimeter_smoothness_compactness_concavity_fractal_dimension': 0.8775510204081632, 'texture_perimeter_smoothness_compactness_concave_points_symmetry': 0.8673469387755102, 'texture_perimeter_smoothness_compactness_concave_points_fractal_dimension': 0.826530612244898, 'texture_perimeter_smoothness_compactness_symmetry_fractal_dimension': 0.8571428571428571, 'texture_perimeter_smoothness_concavity_concave_points_symmetry': 0.8673469387755102, 'texture_perimeter_smoothness_concavity_concave_points_fractal_dimension': 0.826530612244898, 'texture_perimeter_smoothness_concavity_symmetry_fractal_dimension': 0.8775510204081632, 'texture_perimeter_smoothness_concave_points_symmetry_fractal_dimension': 0.7857142857142857, 'texture_perimeter_compactness_concavity_concave_points_symmetry': 0.9387755102040817, 'texture_perimeter_compactness_concavity_concave_points_fractal_dimension': 0.8061224489795918, 'texture_perimeter_compactness_concavity_symmetry_fractal_dimension': 0.8469387755102041, 'texture_perimeter_compactness_concave_points_symmetry_fractal_dimension': 0.8367346938775511, 'texture_perimeter_concavity_concave_points_symmetry_fractal_dimension': 0.8163265306122449, 'texture_area_smoothness_compactness_concavity_concave_points': 0.9081632653061225, 'texture_area_smoothness_compactness_concavity_symmetry': 0.8775510204081632, 'texture_area_smoothness_compactness_concavity_fractal_dimension': 0.8571428571428571, 'texture_area_smoothness_compactness_concave_points_symmetry': 0.8571428571428571, 'texture_area_smoothness_compactness_concave_points_fractal_dimension': 0.8163265306122449, 'texture_area_smoothness_compactness_symmetry_fractal_dimension': 0.8367346938775511, 'texture_area_smoothness_concavity_concave_points_symmetry': 0.8775510204081632, 'texture_area_smoothness_concavity_concave_points_fractal_dimension': 0.8367346938775511, 'texture_area_smoothness_concavity_symmetry_fractal_dimension': 0.8673469387755102, 'texture_area_smoothness_concave_points_symmetry_fractal_dimension': 0.7857142857142857, 'texture_area_compactness_concavity_concave_points_symmetry': 0.8979591836734694, 'texture_area_compactness_concavity_concave_points_fractal_dimension': 0.8163265306122449, 'texture_area_compactness_concavity_symmetry_fractal_dimension': 0.8367346938775511, 'texture_area_compactness_concave_points_symmetry_fractal_dimension': 0.8061224489795918, 'texture_area_concavity_concave_points_symmetry_fractal_dimension': 0.7857142857142857, 'texture_smoothness_compactness_concavity_concave_points_symmetry': 0.826530612244898, 'texture_smoothness_compactness_concavity_concave_points_fractal_dimension': 0.8775510204081632, 'texture_smoothness_compactness_concavity_symmetry_fractal_dimension': 0.826530612244898, 'texture_smoothness_compactness_concave_points_symmetry_fractal_dimension': 0.8367346938775511, 'texture_smoothness_concavity_concave_points_symmetry_fractal_dimension': 0.7959183673469388, 'texture_compactness_concavity_concave_points_symmetry_fractal_dimension': 0.7653061224489796, 'perimeter_area_smoothness_compactness_concavity_concave_points': 0.9183673469387755, 'perimeter_area_smoothness_compactness_concavity_symmetry': 0.8367346938775511, 'perimeter_area_smoothness_compactness_concavity_fractal_dimension': 0.8469387755102041, 'perimeter_area_smoothness_compactness_concave_points_symmetry': 0.8877551020408163, 'perimeter_area_smoothness_compactness_concave_points_fractal_dimension': 0.8673469387755102, 'perimeter_area_smoothness_compactness_symmetry_fractal_dimension': 0.8163265306122449, 'perimeter_area_smoothness_concavity_concave_points_symmetry': 0.9081632653061225, 'perimeter_area_smoothness_concavity_concave_points_fractal_dimension': 0.8673469387755102, 'perimeter_area_smoothness_concavity_symmetry_fractal_dimension': 0.8571428571428571, 'perimeter_area_smoothness_concave_points_symmetry_fractal_dimension': 0.7448979591836735, 'perimeter_area_compactness_concavity_concave_points_symmetry': 0.9285714285714286, 'perimeter_area_compactness_concavity_concave_points_fractal_dimension': 0.826530612244898, 'perimeter_area_compactness_concavity_symmetry_fractal_dimension': 0.8163265306122449, 'perimeter_area_compactness_concave_points_symmetry_fractal_dimension': 0.8163265306122449, 'perimeter_area_concavity_concave_points_symmetry_fractal_dimension': 0.7755102040816326, 'perimeter_smoothness_compactness_concavity_concave_points_symmetry': 0.8367346938775511, 'perimeter_smoothness_compactness_concavity_concave_points_fractal_dimension': 0.7959183673469388, 'perimeter_smoothness_compactness_concavity_symmetry_fractal_dimension': 0.8163265306122449, 'perimeter_smoothness_compactness_concave_points_symmetry_fractal_dimension': 0.8163265306122449, 'perimeter_smoothness_concavity_concave_points_symmetry_fractal_dimension': 0.8061224489795918, 'perimeter_compactness_concavity_concave_points_symmetry_fractal_dimension': 0.7959183673469388, 'area_smoothness_compactness_concavity_concave_points_symmetry': 0.8673469387755102, 'area_smoothness_compactness_concavity_concave_points_fractal_dimension': 0.826530612244898, 'area_smoothness_compactness_concavity_symmetry_fractal_dimension': 0.8367346938775511, 'area_smoothness_compactness_concave_points_symmetry_fractal_dimension': 0.8163265306122449, 'area_smoothness_concavity_concave_points_symmetry_fractal_dimension': 0.7959183673469388, 'area_compactness_concavity_concave_points_symmetry_fractal_dimension': 0.7448979591836735, 'smoothness_compactness_concavity_concave_points_symmetry_fractal_dimension': 0.7755102040816326, 'radius_texture_perimeter_area_smoothness_compactness_concavity': 0.9081632653061225, 'radius_texture_perimeter_area_smoothness_compactness_concave_points': 0.9591836734693877, 'radius_texture_perimeter_area_smoothness_compactness_symmetry': 0.8877551020408163, 'radius_texture_perimeter_area_smoothness_compactness_fractal_dimension': 0.8775510204081632, 'radius_texture_perimeter_area_smoothness_concavity_concave_points': 0.9387755102040817, 'radius_texture_perimeter_area_smoothness_concavity_symmetry': 0.9081632653061225, 'radius_texture_perimeter_area_smoothness_concavity_fractal_dimension': 0.9489795918367347, 'radius_texture_perimeter_area_smoothness_concave_points_symmetry': 0.7857142857142857, 'radius_texture_perimeter_area_smoothness_concave_points_fractal_dimension': 0.7551020408163265, 'radius_texture_perimeter_area_smoothness_symmetry_fractal_dimension': 0.8061224489795918, 'radius_texture_perimeter_area_compactness_concavity_concave_points': 0.9591836734693877, 'radius_texture_perimeter_area_compactness_concavity_symmetry': 0.9387755102040817, 'radius_texture_perimeter_area_compactness_concavity_fractal_dimension': 0.826530612244898, 'radius_texture_perimeter_area_compactness_concave_points_symmetry': 0.9591836734693877, 'radius_texture_perimeter_area_compactness_concave_points_fractal_dimension': 0.826530612244898, 'radius_texture_perimeter_area_compactness_symmetry_fractal_dimension': 0.8367346938775511, 'radius_texture_perimeter_area_concavity_concave_points_symmetry': 0.9693877551020408, 'radius_texture_perimeter_area_concavity_concave_points_fractal_dimension': 0.8163265306122449, 'radius_texture_perimeter_area_concavity_symmetry_fractal_dimension': 0.8061224489795918, 'radius_texture_perimeter_area_concave_points_symmetry_fractal_dimension': 0.7857142857142857, 'radius_texture_perimeter_smoothness_compactness_concavity_concave_points': 0.9591836734693877, 'radius_texture_perimeter_smoothness_compactness_concavity_symmetry': 0.9081632653061225, 'radius_texture_perimeter_smoothness_compactness_concavity_fractal_dimension': 0.9285714285714286, 'radius_texture_perimeter_smoothness_compactness_concave_points_symmetry': 0.9591836734693877, 'radius_texture_perimeter_smoothness_compactness_concave_points_fractal_dimension': 0.9591836734693877, 'radius_texture_perimeter_smoothness_compactness_symmetry_fractal_dimension': 0.8469387755102041, 'radius_texture_perimeter_smoothness_concavity_concave_points_symmetry': 0.9387755102040817, 'radius_texture_perimeter_smoothness_concavity_concave_points_fractal_dimension': 0.8163265306122449, 'radius_texture_perimeter_smoothness_concavity_symmetry_fractal_dimension': 0.9285714285714286, 'radius_texture_perimeter_smoothness_concave_points_symmetry_fractal_dimension': 0.8061224489795918, 'radius_texture_perimeter_compactness_concavity_concave_points_symmetry': 0.9591836734693877, 'radius_texture_perimeter_compactness_concavity_concave_points_fractal_dimension': 0.826530612244898, 'radius_texture_perimeter_compactness_concavity_symmetry_fractal_dimension': 0.9183673469387755, 'radius_texture_perimeter_compactness_concave_points_symmetry_fractal_dimension': 0.7857142857142857, 'radius_texture_perimeter_concavity_concave_points_symmetry_fractal_dimension': 0.7857142857142857, 'radius_texture_area_smoothness_compactness_concavity_concave_points': 0.9183673469387755, 'radius_texture_area_smoothness_compactness_concavity_symmetry': 0.9183673469387755, 'radius_texture_area_smoothness_compactness_concavity_fractal_dimension': 0.826530612244898, 'radius_texture_area_smoothness_compactness_concave_points_symmetry': 0.9387755102040817, 'radius_texture_area_smoothness_compactness_concave_points_fractal_dimension': 0.8673469387755102, 'radius_texture_area_smoothness_compactness_symmetry_fractal_dimension': 0.8775510204081632, 'radius_texture_area_smoothness_concavity_concave_points_symmetry': 0.9285714285714286, 'radius_texture_area_smoothness_concavity_concave_points_fractal_dimension': 0.8163265306122449, 'radius_texture_area_smoothness_concavity_symmetry_fractal_dimension': 0.9387755102040817, 'radius_texture_area_smoothness_concave_points_symmetry_fractal_dimension': 0.8061224489795918, 'radius_texture_area_compactness_concavity_concave_points_symmetry': 0.9591836734693877, 'radius_texture_area_compactness_concavity_concave_points_fractal_dimension': 0.8061224489795918, 'radius_texture_area_compactness_concavity_symmetry_fractal_dimension': 0.9183673469387755, 'radius_texture_area_compactness_concave_points_symmetry_fractal_dimension': 0.826530612244898, 'radius_texture_area_concavity_concave_points_symmetry_fractal_dimension': 0.8061224489795918, 'radius_texture_smoothness_compactness_concavity_concave_points_symmetry': 0.9489795918367347, 'radius_texture_smoothness_compactness_concavity_concave_points_fractal_dimension': 0.8367346938775511, 'radius_texture_smoothness_compactness_concavity_symmetry_fractal_dimension': 0.9183673469387755, 'radius_texture_smoothness_compactness_concave_points_symmetry_fractal_dimension': 0.8061224489795918, 'radius_texture_smoothness_concavity_concave_points_symmetry_fractal_dimension': 0.826530612244898, 'radius_texture_compactness_concavity_concave_points_symmetry_fractal_dimension': 0.9489795918367347, 'radius_perimeter_area_smoothness_compactness_concavity_concave_points': 0.9081632653061225, 'radius_perimeter_area_smoothness_compactness_concavity_symmetry': 0.8877551020408163, 'radius_perimeter_area_smoothness_compactness_concavity_fractal_dimension': 0.9081632653061225, 'radius_perimeter_area_smoothness_compactness_concave_points_symmetry': 0.9081632653061225, 'radius_perimeter_area_smoothness_compactness_concave_points_fractal_dimension': 0.9081632653061225, 'radius_perimeter_area_smoothness_compactness_symmetry_fractal_dimension': 0.826530612244898, 'radius_perimeter_area_smoothness_concavity_concave_points_symmetry': 0.9183673469387755, 'radius_perimeter_area_smoothness_concavity_concave_points_fractal_dimension': 0.9285714285714286, 'radius_perimeter_area_smoothness_concavity_symmetry_fractal_dimension': 0.9081632653061225, 'radius_perimeter_area_smoothness_concave_points_symmetry_fractal_dimension': 0.7959183673469388, 'radius_perimeter_area_compactness_concavity_concave_points_symmetry': 0.9081632653061225, 'radius_perimeter_area_compactness_concavity_concave_points_fractal_dimension': 0.8061224489795918, 'radius_perimeter_area_compactness_concavity_symmetry_fractal_dimension': 0.8877551020408163, 'radius_perimeter_area_compactness_concave_points_symmetry_fractal_dimension': 0.9183673469387755, 'radius_perimeter_area_concavity_concave_points_symmetry_fractal_dimension': 0.7959183673469388, 'radius_perimeter_smoothness_compactness_concavity_concave_points_symmetry': 0.8979591836734694, 'radius_perimeter_smoothness_compactness_concavity_concave_points_fractal_dimension': 0.9183673469387755, 'radius_perimeter_smoothness_compactness_concavity_symmetry_fractal_dimension': 0.8979591836734694, 'radius_perimeter_smoothness_compactness_concave_points_symmetry_fractal_dimension': 0.9081632653061225, 'radius_perimeter_smoothness_concavity_concave_points_symmetry_fractal_dimension': 0.8979591836734694, 'radius_perimeter_compactness_concavity_concave_points_symmetry_fractal_dimension': 0.9183673469387755, 'radius_area_smoothness_compactness_concavity_concave_points_symmetry': 0.9081632653061225, 'radius_area_smoothness_compactness_concavity_concave_points_fractal_dimension': 0.8367346938775511, 'radius_area_smoothness_compactness_concavity_symmetry_fractal_dimension': 0.9081632653061225, 'radius_area_smoothness_compactness_concave_points_symmetry_fractal_dimension': 0.8979591836734694, 'radius_area_smoothness_concavity_concave_points_symmetry_fractal_dimension': 0.9081632653061225, 'radius_area_compactness_concavity_concave_points_symmetry_fractal_dimension': 0.9285714285714286, 'radius_smoothness_compactness_concavity_concave_points_symmetry_fractal_dimension': 0.9081632653061225, 'texture_perimeter_area_smoothness_compactness_concavity_concave_points': 0.9591836734693877, 'texture_perimeter_area_smoothness_compactness_concavity_symmetry': 0.9183673469387755, 'texture_perimeter_area_smoothness_compactness_concavity_fractal_dimension': 0.9489795918367347, 'texture_perimeter_area_smoothness_compactness_concave_points_symmetry': 0.9591836734693877, 'texture_perimeter_area_smoothness_compactness_concave_points_fractal_dimension': 0.9795918367346939, 'texture_perimeter_area_smoothness_compactness_symmetry_fractal_dimension': 0.8469387755102041, 'texture_perimeter_area_smoothness_concavity_concave_points_symmetry': 0.9489795918367347, 'texture_perimeter_area_smoothness_concavity_concave_points_fractal_dimension': 0.9591836734693877, 'texture_perimeter_area_smoothness_concavity_symmetry_fractal_dimension': 0.9387755102040817, 'texture_perimeter_area_smoothness_concave_points_symmetry_fractal_dimension': 0.7959183673469388, 'texture_perimeter_area_compactness_concavity_concave_points_symmetry': 0.9591836734693877, 'texture_perimeter_area_compactness_concavity_concave_points_fractal_dimension': 0.8061224489795918, 'texture_perimeter_area_compactness_concavity_symmetry_fractal_dimension': 0.9285714285714286, 'texture_perimeter_area_compactness_concave_points_symmetry_fractal_dimension': 0.9693877551020408, 'texture_perimeter_area_concavity_concave_points_symmetry_fractal_dimension': 0.8061224489795918, 'texture_perimeter_smoothness_compactness_concavity_concave_points_symmetry': 0.9693877551020408, 'texture_perimeter_smoothness_compactness_concavity_concave_points_fractal_dimension': 0.9693877551020408, 'texture_perimeter_smoothness_compactness_concavity_symmetry_fractal_dimension': 0.9285714285714286, 'texture_perimeter_smoothness_compactness_concave_points_symmetry_fractal_dimension': 0.9795918367346939, 'texture_perimeter_smoothness_concavity_concave_points_symmetry_fractal_dimension': 0.8163265306122449, 'texture_perimeter_compactness_concavity_concave_points_symmetry_fractal_dimension': 0.9591836734693877, 'texture_area_smoothness_compactness_concavity_concave_points_symmetry': 0.9591836734693877, 'texture_area_smoothness_compactness_concavity_concave_points_fractal_dimension': 0.826530612244898, 'texture_area_smoothness_compactness_concavity_symmetry_fractal_dimension': 0.9489795918367347, 'texture_area_smoothness_compactness_concave_points_symmetry_fractal_dimension': 0.9693877551020408, 'texture_area_smoothness_concavity_concave_points_symmetry_fractal_dimension': 0.9489795918367347, 'texture_area_compactness_concavity_concave_points_symmetry_fractal_dimension': 0.9693877551020408, 'texture_smoothness_compactness_concavity_concave_points_symmetry_fractal_dimension': 0.826530612244898, 'perimeter_area_smoothness_compactness_concavity_concave_points_symmetry': 0.9285714285714286, 'perimeter_area_smoothness_compactness_concavity_concave_points_fractal_dimension': 0.9387755102040817, 'perimeter_area_smoothness_compactness_concavity_symmetry_fractal_dimension': 0.8877551020408163, 'perimeter_area_smoothness_compactness_concave_points_symmetry_fractal_dimension': 0.9285714285714286, 'perimeter_area_smoothness_concavity_concave_points_symmetry_fractal_dimension': 0.9285714285714286, 'perimeter_area_compactness_concavity_concave_points_symmetry_fractal_dimension': 0.9285714285714286, 'perimeter_smoothness_compactness_concavity_concave_points_symmetry_fractal_dimension': 0.9489795918367347, 'area_smoothness_compactness_concavity_concave_points_symmetry_fractal_dimension': 0.8979591836734694, 'radius_texture_perimeter_area_smoothness_compactness_concavity_concave_points': 0.9387755102040817, 'radius_texture_perimeter_area_smoothness_compactness_concavity_symmetry': 0.9081632653061225, 'radius_texture_perimeter_area_smoothness_compactness_concavity_fractal_dimension': 0.8367346938775511, 'radius_texture_perimeter_area_smoothness_compactness_concave_points_symmetry': 0.9387755102040817, 'radius_texture_perimeter_area_smoothness_compactness_concave_points_fractal_dimension': 0.8163265306122449, 'radius_texture_perimeter_area_smoothness_compactness_symmetry_fractal_dimension': 0.8571428571428571, 'radius_texture_perimeter_area_smoothness_concavity_concave_points_symmetry': 0.9489795918367347, 'radius_texture_perimeter_area_smoothness_concavity_concave_points_fractal_dimension': 0.7857142857142857, 'radius_texture_perimeter_area_smoothness_concavity_symmetry_fractal_dimension': 0.7857142857142857, 'radius_texture_perimeter_area_smoothness_concave_points_symmetry_fractal_dimension': 0.8163265306122449, 'radius_texture_perimeter_area_compactness_concavity_concave_points_symmetry': 0.9591836734693877, 'radius_texture_perimeter_area_compactness_concavity_concave_points_fractal_dimension': 0.8163265306122449, 'radius_texture_perimeter_area_compactness_concavity_symmetry_fractal_dimension': 0.9183673469387755, 'radius_texture_perimeter_area_compactness_concave_points_symmetry_fractal_dimension': 0.7653061224489796, 'radius_texture_perimeter_area_concavity_concave_points_symmetry_fractal_dimension': 0.8061224489795918, 'radius_texture_perimeter_smoothness_compactness_concavity_concave_points_symmetry': 0.9591836734693877, 'radius_texture_perimeter_smoothness_compactness_concavity_concave_points_fractal_dimension': 0.9387755102040817, 'radius_texture_perimeter_smoothness_compactness_concavity_symmetry_fractal_dimension': 0.9081632653061225, 'radius_texture_perimeter_smoothness_compactness_concave_points_symmetry_fractal_dimension': 0.7551020408163265, 'radius_texture_perimeter_smoothness_concavity_concave_points_symmetry_fractal_dimension': 0.7755102040816326, 'radius_texture_perimeter_compactness_concavity_concave_points_symmetry_fractal_dimension': 0.9387755102040817, 'radius_texture_area_smoothness_compactness_concavity_concave_points_symmetry': 0.9285714285714286, 'radius_texture_area_smoothness_compactness_concavity_concave_points_fractal_dimension': 0.8571428571428571, 'radius_texture_area_smoothness_compactness_concavity_symmetry_fractal_dimension': 0.9183673469387755, 'radius_texture_area_smoothness_compactness_concave_points_symmetry_fractal_dimension': 0.7959183673469388, 'radius_texture_area_smoothness_concavity_concave_points_symmetry_fractal_dimension': 0.7857142857142857, 'radius_texture_area_compactness_concavity_concave_points_symmetry_fractal_dimension': 0.9387755102040817, 'radius_texture_smoothness_compactness_concavity_concave_points_symmetry_fractal_dimension': 0.8061224489795918, 'radius_perimeter_area_smoothness_compactness_concavity_concave_points_symmetry': 0.8877551020408163, 'radius_perimeter_area_smoothness_compactness_concavity_concave_points_fractal_dimension': 0.8571428571428571, 'radius_perimeter_area_smoothness_compactness_concavity_symmetry_fractal_dimension': 0.8775510204081632, 'radius_perimeter_area_smoothness_compactness_concave_points_symmetry_fractal_dimension': 0.8877551020408163, 'radius_perimeter_area_smoothness_concavity_concave_points_symmetry_fractal_dimension': 0.7857142857142857, 'radius_perimeter_area_compactness_concavity_concave_points_symmetry_fractal_dimension': 0.8979591836734694, 'radius_perimeter_smoothness_compactness_concavity_concave_points_symmetry_fractal_dimension': 0.8673469387755102, 'radius_area_smoothness_compactness_concavity_concave_points_symmetry_fractal_dimension': 0.8979591836734694, 'texture_perimeter_area_smoothness_compactness_concavity_concave_points_symmetry': 0.9693877551020408, 'texture_perimeter_area_smoothness_compactness_concavity_concave_points_fractal_dimension': 0.9795918367346939, 'texture_perimeter_area_smoothness_compactness_concavity_symmetry_fractal_dimension': 0.9183673469387755, 'texture_perimeter_area_smoothness_compactness_concave_points_symmetry_fractal_dimension': 0.9591836734693877, 'texture_perimeter_area_smoothness_concavity_concave_points_symmetry_fractal_dimension': 0.8163265306122449, 'texture_perimeter_area_compactness_concavity_concave_points_symmetry_fractal_dimension': 0.9591836734693877, 'texture_perimeter_smoothness_compactness_concavity_concave_points_symmetry_fractal_dimension': 0.9591836734693877, 'texture_area_smoothness_compactness_concavity_concave_points_symmetry_fractal_dimension': 0.9489795918367347, 'perimeter_area_smoothness_compactness_concavity_concave_points_symmetry_fractal_dimension': 0.9285714285714286, 'radius_texture_perimeter_area_smoothness_compactness_concavity_concave_points_symmetry': 0.9591836734693877, 'radius_texture_perimeter_area_smoothness_compactness_concavity_concave_points_fractal_dimension': 0.826530612244898, 'radius_texture_perimeter_area_smoothness_compactness_concavity_symmetry_fractal_dimension': 0.9183673469387755, 'radius_texture_perimeter_area_smoothness_compactness_concave_points_symmetry_fractal_dimension': 0.8061224489795918, 'radius_texture_perimeter_area_smoothness_concavity_concave_points_symmetry_fractal_dimension': 0.8061224489795918, 'radius_texture_perimeter_area_compactness_concavity_concave_points_symmetry_fractal_dimension': 0.9693877551020408, 'radius_texture_perimeter_smoothness_compactness_concavity_concave_points_symmetry_fractal_dimension': 0.9591836734693877, 'radius_texture_area_smoothness_compactness_concavity_concave_points_symmetry_fractal_dimension': 0.9387755102040817, 'radius_perimeter_area_smoothness_compactness_concavity_concave_points_symmetry_fractal_dimension': 0.8979591836734694, 'texture_perimeter_area_smoothness_compactness_concavity_concave_points_symmetry_fractal_dimension': 0.9795918367346939, 'radius_texture_perimeter_area_smoothness_compactness_concavity_concave_points_symmetry_fractal_dimension': 0.9591836734693877}\n",
      "----\\----\n",
      "Tập có accuracy cao nhất: texture_perimeter_area_concavity_concave_points\n",
      "Accuracy: 0.9795918367346939\n"
     ]
    },
    {
     "name": "stderr",
     "output_type": "stream",
     "text": [
      "c:\\Users\\nguyn\\AppData\\Local\\Programs\\Python\\Python312\\Lib\\site-packages\\sklearn\\linear_model\\_logistic.py:460: ConvergenceWarning: lbfgs failed to converge (status=1):\n",
      "STOP: TOTAL NO. of ITERATIONS REACHED LIMIT.\n",
      "\n",
      "Increase the number of iterations (max_iter) or scale the data as shown in:\n",
      "    https://scikit-learn.org/stable/modules/preprocessing.html\n",
      "Please also refer to the documentation for alternative solver options:\n",
      "    https://scikit-learn.org/stable/modules/linear_model.html#logistic-regression\n",
      "  n_iter_i = _check_optimize_result(\n"
     ]
    }
   ],
   "source": [
    "best_accuracy = 0\n",
    "best_subset = None\n",
    "\n",
    "res = {}\n",
    "\n",
    "for subset_name, subset_values in data_train_subsets.items():\n",
    "    data_train_tuple = tuple(subset_values)\n",
    "    data_test_tuple = tuple(data_test_subsets[subset_name])\n",
    "\n",
    "    TCCA_model = TCCA()\n",
    "    X_train_transformed = TCCA_model.fit_transform(data_train_tuple)\n",
    "    X_test_transformed = TCCA_model.transform(data_test_tuple)\n",
    "\n",
    "    X_train_log = np.squeeze(np.transpose(X_train_transformed, axes=(1, 0, 2)), axis=-1)\n",
    "    X_test_log = np.squeeze(np.transpose(X_test_transformed, axes=(1, 0, 2)), axis=-1)\n",
    "\n",
    "    log_reg = LogisticRegression()\n",
    "    log_reg.fit(X_train_log, y_train)\n",
    "\n",
    "    y_pred = log_reg.predict(X_test_log)\n",
    "    accuracy = accuracy_score(y_test, y_pred)\n",
    "    res[subset_name] = accuracy\n",
    "\n",
    "    if accuracy > best_accuracy:\n",
    "        best_accuracy = accuracy\n",
    "        best_subset = subset_name\n",
    "\n",
    "print(res)\n",
    "    \n",
    "print(\"----\\----\")\n",
    "print(\"Tập có accuracy cao nhất:\", best_subset)\n",
    "print(\"Accuracy:\", best_accuracy)"
   ]
  }
 ],
 "metadata": {
  "kernelspec": {
   "display_name": "Python 3",
   "language": "python",
   "name": "python3"
  },
  "language_info": {
   "codemirror_mode": {
    "name": "ipython",
    "version": 3
   },
   "file_extension": ".py",
   "mimetype": "text/x-python",
   "name": "python",
   "nbconvert_exporter": "python",
   "pygments_lexer": "ipython3",
   "version": "3.10.10"
  }
 },
 "nbformat": 4,
 "nbformat_minor": 2
}
